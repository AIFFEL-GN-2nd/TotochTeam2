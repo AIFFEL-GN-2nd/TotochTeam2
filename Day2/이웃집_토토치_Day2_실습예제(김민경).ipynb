{
  "nbformat": 4,
  "nbformat_minor": 0,
  "metadata": {
    "colab": {
      "name": "이웃집 토토치 Day2 실습예제(김민경).ipynb",
      "provenance": [],
      "collapsed_sections": [],
      "include_colab_link": true
    },
    "kernelspec": {
      "name": "python3",
      "display_name": "Python 3"
    },
    "language_info": {
      "name": "python"
    },
    "widgets": {
      "application/vnd.jupyter.widget-state+json": {
        "2d918e792ac6485f9daf4266209f0d9b": {
          "model_module": "@jupyter-widgets/controls",
          "model_name": "HBoxModel",
          "model_module_version": "1.5.0",
          "state": {
            "_view_name": "HBoxView",
            "_dom_classes": [],
            "_model_name": "HBoxModel",
            "_view_module": "@jupyter-widgets/controls",
            "_model_module_version": "1.5.0",
            "_view_count": null,
            "_view_module_version": "1.5.0",
            "box_style": "",
            "layout": "IPY_MODEL_d2e37b29305147e1b531eb42d6f3278f",
            "_model_module": "@jupyter-widgets/controls",
            "children": [
              "IPY_MODEL_3871d8c65c1e42aebcbbebdafaccd880",
              "IPY_MODEL_d6033fcaa27a4e30a0ad2652972e0724",
              "IPY_MODEL_d6b54fb7be08490c8a4f89c8e382045a"
            ]
          }
        },
        "d2e37b29305147e1b531eb42d6f3278f": {
          "model_module": "@jupyter-widgets/base",
          "model_name": "LayoutModel",
          "model_module_version": "1.2.0",
          "state": {
            "_view_name": "LayoutView",
            "grid_template_rows": null,
            "right": null,
            "justify_content": null,
            "_view_module": "@jupyter-widgets/base",
            "overflow": null,
            "_model_module_version": "1.2.0",
            "_view_count": null,
            "flex_flow": null,
            "width": null,
            "min_width": null,
            "border": null,
            "align_items": null,
            "bottom": null,
            "_model_module": "@jupyter-widgets/base",
            "top": null,
            "grid_column": null,
            "overflow_y": null,
            "overflow_x": null,
            "grid_auto_flow": null,
            "grid_area": null,
            "grid_template_columns": null,
            "flex": null,
            "_model_name": "LayoutModel",
            "justify_items": null,
            "grid_row": null,
            "max_height": null,
            "align_content": null,
            "visibility": null,
            "align_self": null,
            "height": null,
            "min_height": null,
            "padding": null,
            "grid_auto_rows": null,
            "grid_gap": null,
            "max_width": null,
            "order": null,
            "_view_module_version": "1.2.0",
            "grid_template_areas": null,
            "object_position": null,
            "object_fit": null,
            "grid_auto_columns": null,
            "margin": null,
            "display": null,
            "left": null
          }
        },
        "3871d8c65c1e42aebcbbebdafaccd880": {
          "model_module": "@jupyter-widgets/controls",
          "model_name": "HTMLModel",
          "model_module_version": "1.5.0",
          "state": {
            "_view_name": "HTMLView",
            "style": "IPY_MODEL_d5ece5260b7c468aa5bbd42060c1466d",
            "_dom_classes": [],
            "description": "",
            "_model_name": "HTMLModel",
            "placeholder": "​",
            "_view_module": "@jupyter-widgets/controls",
            "_model_module_version": "1.5.0",
            "value": "",
            "_view_count": null,
            "_view_module_version": "1.5.0",
            "description_tooltip": null,
            "_model_module": "@jupyter-widgets/controls",
            "layout": "IPY_MODEL_40788c9c11834bac9208556b39da38a8"
          }
        },
        "d6033fcaa27a4e30a0ad2652972e0724": {
          "model_module": "@jupyter-widgets/controls",
          "model_name": "FloatProgressModel",
          "model_module_version": "1.5.0",
          "state": {
            "_view_name": "ProgressView",
            "style": "IPY_MODEL_42c2313c47f64e4791e1c0c1a767d6e3",
            "_dom_classes": [],
            "description": "",
            "_model_name": "FloatProgressModel",
            "bar_style": "success",
            "max": 9912422,
            "_view_module": "@jupyter-widgets/controls",
            "_model_module_version": "1.5.0",
            "value": 9912422,
            "_view_count": null,
            "_view_module_version": "1.5.0",
            "orientation": "horizontal",
            "min": 0,
            "description_tooltip": null,
            "_model_module": "@jupyter-widgets/controls",
            "layout": "IPY_MODEL_b6770942831f439db2a4f9a9fc73b285"
          }
        },
        "d6b54fb7be08490c8a4f89c8e382045a": {
          "model_module": "@jupyter-widgets/controls",
          "model_name": "HTMLModel",
          "model_module_version": "1.5.0",
          "state": {
            "_view_name": "HTMLView",
            "style": "IPY_MODEL_bca0900c3f2547a4b9cc1440b14ac17f",
            "_dom_classes": [],
            "description": "",
            "_model_name": "HTMLModel",
            "placeholder": "​",
            "_view_module": "@jupyter-widgets/controls",
            "_model_module_version": "1.5.0",
            "value": " 9913344/? [00:00&lt;00:00, 43132654.52it/s]",
            "_view_count": null,
            "_view_module_version": "1.5.0",
            "description_tooltip": null,
            "_model_module": "@jupyter-widgets/controls",
            "layout": "IPY_MODEL_5ce9d1ac90f040dab4b5a558afac0f68"
          }
        },
        "d5ece5260b7c468aa5bbd42060c1466d": {
          "model_module": "@jupyter-widgets/controls",
          "model_name": "DescriptionStyleModel",
          "model_module_version": "1.5.0",
          "state": {
            "_view_name": "StyleView",
            "_model_name": "DescriptionStyleModel",
            "description_width": "",
            "_view_module": "@jupyter-widgets/base",
            "_model_module_version": "1.5.0",
            "_view_count": null,
            "_view_module_version": "1.2.0",
            "_model_module": "@jupyter-widgets/controls"
          }
        },
        "40788c9c11834bac9208556b39da38a8": {
          "model_module": "@jupyter-widgets/base",
          "model_name": "LayoutModel",
          "model_module_version": "1.2.0",
          "state": {
            "_view_name": "LayoutView",
            "grid_template_rows": null,
            "right": null,
            "justify_content": null,
            "_view_module": "@jupyter-widgets/base",
            "overflow": null,
            "_model_module_version": "1.2.0",
            "_view_count": null,
            "flex_flow": null,
            "width": null,
            "min_width": null,
            "border": null,
            "align_items": null,
            "bottom": null,
            "_model_module": "@jupyter-widgets/base",
            "top": null,
            "grid_column": null,
            "overflow_y": null,
            "overflow_x": null,
            "grid_auto_flow": null,
            "grid_area": null,
            "grid_template_columns": null,
            "flex": null,
            "_model_name": "LayoutModel",
            "justify_items": null,
            "grid_row": null,
            "max_height": null,
            "align_content": null,
            "visibility": null,
            "align_self": null,
            "height": null,
            "min_height": null,
            "padding": null,
            "grid_auto_rows": null,
            "grid_gap": null,
            "max_width": null,
            "order": null,
            "_view_module_version": "1.2.0",
            "grid_template_areas": null,
            "object_position": null,
            "object_fit": null,
            "grid_auto_columns": null,
            "margin": null,
            "display": null,
            "left": null
          }
        },
        "42c2313c47f64e4791e1c0c1a767d6e3": {
          "model_module": "@jupyter-widgets/controls",
          "model_name": "ProgressStyleModel",
          "model_module_version": "1.5.0",
          "state": {
            "_view_name": "StyleView",
            "_model_name": "ProgressStyleModel",
            "description_width": "",
            "_view_module": "@jupyter-widgets/base",
            "_model_module_version": "1.5.0",
            "_view_count": null,
            "_view_module_version": "1.2.0",
            "bar_color": null,
            "_model_module": "@jupyter-widgets/controls"
          }
        },
        "b6770942831f439db2a4f9a9fc73b285": {
          "model_module": "@jupyter-widgets/base",
          "model_name": "LayoutModel",
          "model_module_version": "1.2.0",
          "state": {
            "_view_name": "LayoutView",
            "grid_template_rows": null,
            "right": null,
            "justify_content": null,
            "_view_module": "@jupyter-widgets/base",
            "overflow": null,
            "_model_module_version": "1.2.0",
            "_view_count": null,
            "flex_flow": null,
            "width": null,
            "min_width": null,
            "border": null,
            "align_items": null,
            "bottom": null,
            "_model_module": "@jupyter-widgets/base",
            "top": null,
            "grid_column": null,
            "overflow_y": null,
            "overflow_x": null,
            "grid_auto_flow": null,
            "grid_area": null,
            "grid_template_columns": null,
            "flex": null,
            "_model_name": "LayoutModel",
            "justify_items": null,
            "grid_row": null,
            "max_height": null,
            "align_content": null,
            "visibility": null,
            "align_self": null,
            "height": null,
            "min_height": null,
            "padding": null,
            "grid_auto_rows": null,
            "grid_gap": null,
            "max_width": null,
            "order": null,
            "_view_module_version": "1.2.0",
            "grid_template_areas": null,
            "object_position": null,
            "object_fit": null,
            "grid_auto_columns": null,
            "margin": null,
            "display": null,
            "left": null
          }
        },
        "bca0900c3f2547a4b9cc1440b14ac17f": {
          "model_module": "@jupyter-widgets/controls",
          "model_name": "DescriptionStyleModel",
          "model_module_version": "1.5.0",
          "state": {
            "_view_name": "StyleView",
            "_model_name": "DescriptionStyleModel",
            "description_width": "",
            "_view_module": "@jupyter-widgets/base",
            "_model_module_version": "1.5.0",
            "_view_count": null,
            "_view_module_version": "1.2.0",
            "_model_module": "@jupyter-widgets/controls"
          }
        },
        "5ce9d1ac90f040dab4b5a558afac0f68": {
          "model_module": "@jupyter-widgets/base",
          "model_name": "LayoutModel",
          "model_module_version": "1.2.0",
          "state": {
            "_view_name": "LayoutView",
            "grid_template_rows": null,
            "right": null,
            "justify_content": null,
            "_view_module": "@jupyter-widgets/base",
            "overflow": null,
            "_model_module_version": "1.2.0",
            "_view_count": null,
            "flex_flow": null,
            "width": null,
            "min_width": null,
            "border": null,
            "align_items": null,
            "bottom": null,
            "_model_module": "@jupyter-widgets/base",
            "top": null,
            "grid_column": null,
            "overflow_y": null,
            "overflow_x": null,
            "grid_auto_flow": null,
            "grid_area": null,
            "grid_template_columns": null,
            "flex": null,
            "_model_name": "LayoutModel",
            "justify_items": null,
            "grid_row": null,
            "max_height": null,
            "align_content": null,
            "visibility": null,
            "align_self": null,
            "height": null,
            "min_height": null,
            "padding": null,
            "grid_auto_rows": null,
            "grid_gap": null,
            "max_width": null,
            "order": null,
            "_view_module_version": "1.2.0",
            "grid_template_areas": null,
            "object_position": null,
            "object_fit": null,
            "grid_auto_columns": null,
            "margin": null,
            "display": null,
            "left": null
          }
        },
        "f29e5ef0ee67477295a810cc5185ea36": {
          "model_module": "@jupyter-widgets/controls",
          "model_name": "HBoxModel",
          "model_module_version": "1.5.0",
          "state": {
            "_view_name": "HBoxView",
            "_dom_classes": [],
            "_model_name": "HBoxModel",
            "_view_module": "@jupyter-widgets/controls",
            "_model_module_version": "1.5.0",
            "_view_count": null,
            "_view_module_version": "1.5.0",
            "box_style": "",
            "layout": "IPY_MODEL_58b1551c4643480887e09a190f4263f5",
            "_model_module": "@jupyter-widgets/controls",
            "children": [
              "IPY_MODEL_dab27711fbaf45f9a7c9eb754a7031fe",
              "IPY_MODEL_74bc1caced5e4140a3373e661c3f7051",
              "IPY_MODEL_fb7f5b757eb74efa8538fa51d4df9ee8"
            ]
          }
        },
        "58b1551c4643480887e09a190f4263f5": {
          "model_module": "@jupyter-widgets/base",
          "model_name": "LayoutModel",
          "model_module_version": "1.2.0",
          "state": {
            "_view_name": "LayoutView",
            "grid_template_rows": null,
            "right": null,
            "justify_content": null,
            "_view_module": "@jupyter-widgets/base",
            "overflow": null,
            "_model_module_version": "1.2.0",
            "_view_count": null,
            "flex_flow": null,
            "width": null,
            "min_width": null,
            "border": null,
            "align_items": null,
            "bottom": null,
            "_model_module": "@jupyter-widgets/base",
            "top": null,
            "grid_column": null,
            "overflow_y": null,
            "overflow_x": null,
            "grid_auto_flow": null,
            "grid_area": null,
            "grid_template_columns": null,
            "flex": null,
            "_model_name": "LayoutModel",
            "justify_items": null,
            "grid_row": null,
            "max_height": null,
            "align_content": null,
            "visibility": null,
            "align_self": null,
            "height": null,
            "min_height": null,
            "padding": null,
            "grid_auto_rows": null,
            "grid_gap": null,
            "max_width": null,
            "order": null,
            "_view_module_version": "1.2.0",
            "grid_template_areas": null,
            "object_position": null,
            "object_fit": null,
            "grid_auto_columns": null,
            "margin": null,
            "display": null,
            "left": null
          }
        },
        "dab27711fbaf45f9a7c9eb754a7031fe": {
          "model_module": "@jupyter-widgets/controls",
          "model_name": "HTMLModel",
          "model_module_version": "1.5.0",
          "state": {
            "_view_name": "HTMLView",
            "style": "IPY_MODEL_c954e3226d4b4564ad8c936d4fadef93",
            "_dom_classes": [],
            "description": "",
            "_model_name": "HTMLModel",
            "placeholder": "​",
            "_view_module": "@jupyter-widgets/controls",
            "_model_module_version": "1.5.0",
            "value": "",
            "_view_count": null,
            "_view_module_version": "1.5.0",
            "description_tooltip": null,
            "_model_module": "@jupyter-widgets/controls",
            "layout": "IPY_MODEL_2452ba8fc35b4b6d9d7d9f5f7ea65b75"
          }
        },
        "74bc1caced5e4140a3373e661c3f7051": {
          "model_module": "@jupyter-widgets/controls",
          "model_name": "FloatProgressModel",
          "model_module_version": "1.5.0",
          "state": {
            "_view_name": "ProgressView",
            "style": "IPY_MODEL_848dea2aa1a94d04a5e9307e48b53b09",
            "_dom_classes": [],
            "description": "",
            "_model_name": "FloatProgressModel",
            "bar_style": "success",
            "max": 28881,
            "_view_module": "@jupyter-widgets/controls",
            "_model_module_version": "1.5.0",
            "value": 28881,
            "_view_count": null,
            "_view_module_version": "1.5.0",
            "orientation": "horizontal",
            "min": 0,
            "description_tooltip": null,
            "_model_module": "@jupyter-widgets/controls",
            "layout": "IPY_MODEL_67709bc742024c83afe8ab327f5eaa23"
          }
        },
        "fb7f5b757eb74efa8538fa51d4df9ee8": {
          "model_module": "@jupyter-widgets/controls",
          "model_name": "HTMLModel",
          "model_module_version": "1.5.0",
          "state": {
            "_view_name": "HTMLView",
            "style": "IPY_MODEL_c6f91d50aaf143d392888be2aba87b14",
            "_dom_classes": [],
            "description": "",
            "_model_name": "HTMLModel",
            "placeholder": "​",
            "_view_module": "@jupyter-widgets/controls",
            "_model_module_version": "1.5.0",
            "value": " 29696/? [00:00&lt;00:00, 703711.11it/s]",
            "_view_count": null,
            "_view_module_version": "1.5.0",
            "description_tooltip": null,
            "_model_module": "@jupyter-widgets/controls",
            "layout": "IPY_MODEL_000667b26be54a53abb3c64ad6ff9053"
          }
        },
        "c954e3226d4b4564ad8c936d4fadef93": {
          "model_module": "@jupyter-widgets/controls",
          "model_name": "DescriptionStyleModel",
          "model_module_version": "1.5.0",
          "state": {
            "_view_name": "StyleView",
            "_model_name": "DescriptionStyleModel",
            "description_width": "",
            "_view_module": "@jupyter-widgets/base",
            "_model_module_version": "1.5.0",
            "_view_count": null,
            "_view_module_version": "1.2.0",
            "_model_module": "@jupyter-widgets/controls"
          }
        },
        "2452ba8fc35b4b6d9d7d9f5f7ea65b75": {
          "model_module": "@jupyter-widgets/base",
          "model_name": "LayoutModel",
          "model_module_version": "1.2.0",
          "state": {
            "_view_name": "LayoutView",
            "grid_template_rows": null,
            "right": null,
            "justify_content": null,
            "_view_module": "@jupyter-widgets/base",
            "overflow": null,
            "_model_module_version": "1.2.0",
            "_view_count": null,
            "flex_flow": null,
            "width": null,
            "min_width": null,
            "border": null,
            "align_items": null,
            "bottom": null,
            "_model_module": "@jupyter-widgets/base",
            "top": null,
            "grid_column": null,
            "overflow_y": null,
            "overflow_x": null,
            "grid_auto_flow": null,
            "grid_area": null,
            "grid_template_columns": null,
            "flex": null,
            "_model_name": "LayoutModel",
            "justify_items": null,
            "grid_row": null,
            "max_height": null,
            "align_content": null,
            "visibility": null,
            "align_self": null,
            "height": null,
            "min_height": null,
            "padding": null,
            "grid_auto_rows": null,
            "grid_gap": null,
            "max_width": null,
            "order": null,
            "_view_module_version": "1.2.0",
            "grid_template_areas": null,
            "object_position": null,
            "object_fit": null,
            "grid_auto_columns": null,
            "margin": null,
            "display": null,
            "left": null
          }
        },
        "848dea2aa1a94d04a5e9307e48b53b09": {
          "model_module": "@jupyter-widgets/controls",
          "model_name": "ProgressStyleModel",
          "model_module_version": "1.5.0",
          "state": {
            "_view_name": "StyleView",
            "_model_name": "ProgressStyleModel",
            "description_width": "",
            "_view_module": "@jupyter-widgets/base",
            "_model_module_version": "1.5.0",
            "_view_count": null,
            "_view_module_version": "1.2.0",
            "bar_color": null,
            "_model_module": "@jupyter-widgets/controls"
          }
        },
        "67709bc742024c83afe8ab327f5eaa23": {
          "model_module": "@jupyter-widgets/base",
          "model_name": "LayoutModel",
          "model_module_version": "1.2.0",
          "state": {
            "_view_name": "LayoutView",
            "grid_template_rows": null,
            "right": null,
            "justify_content": null,
            "_view_module": "@jupyter-widgets/base",
            "overflow": null,
            "_model_module_version": "1.2.0",
            "_view_count": null,
            "flex_flow": null,
            "width": null,
            "min_width": null,
            "border": null,
            "align_items": null,
            "bottom": null,
            "_model_module": "@jupyter-widgets/base",
            "top": null,
            "grid_column": null,
            "overflow_y": null,
            "overflow_x": null,
            "grid_auto_flow": null,
            "grid_area": null,
            "grid_template_columns": null,
            "flex": null,
            "_model_name": "LayoutModel",
            "justify_items": null,
            "grid_row": null,
            "max_height": null,
            "align_content": null,
            "visibility": null,
            "align_self": null,
            "height": null,
            "min_height": null,
            "padding": null,
            "grid_auto_rows": null,
            "grid_gap": null,
            "max_width": null,
            "order": null,
            "_view_module_version": "1.2.0",
            "grid_template_areas": null,
            "object_position": null,
            "object_fit": null,
            "grid_auto_columns": null,
            "margin": null,
            "display": null,
            "left": null
          }
        },
        "c6f91d50aaf143d392888be2aba87b14": {
          "model_module": "@jupyter-widgets/controls",
          "model_name": "DescriptionStyleModel",
          "model_module_version": "1.5.0",
          "state": {
            "_view_name": "StyleView",
            "_model_name": "DescriptionStyleModel",
            "description_width": "",
            "_view_module": "@jupyter-widgets/base",
            "_model_module_version": "1.5.0",
            "_view_count": null,
            "_view_module_version": "1.2.0",
            "_model_module": "@jupyter-widgets/controls"
          }
        },
        "000667b26be54a53abb3c64ad6ff9053": {
          "model_module": "@jupyter-widgets/base",
          "model_name": "LayoutModel",
          "model_module_version": "1.2.0",
          "state": {
            "_view_name": "LayoutView",
            "grid_template_rows": null,
            "right": null,
            "justify_content": null,
            "_view_module": "@jupyter-widgets/base",
            "overflow": null,
            "_model_module_version": "1.2.0",
            "_view_count": null,
            "flex_flow": null,
            "width": null,
            "min_width": null,
            "border": null,
            "align_items": null,
            "bottom": null,
            "_model_module": "@jupyter-widgets/base",
            "top": null,
            "grid_column": null,
            "overflow_y": null,
            "overflow_x": null,
            "grid_auto_flow": null,
            "grid_area": null,
            "grid_template_columns": null,
            "flex": null,
            "_model_name": "LayoutModel",
            "justify_items": null,
            "grid_row": null,
            "max_height": null,
            "align_content": null,
            "visibility": null,
            "align_self": null,
            "height": null,
            "min_height": null,
            "padding": null,
            "grid_auto_rows": null,
            "grid_gap": null,
            "max_width": null,
            "order": null,
            "_view_module_version": "1.2.0",
            "grid_template_areas": null,
            "object_position": null,
            "object_fit": null,
            "grid_auto_columns": null,
            "margin": null,
            "display": null,
            "left": null
          }
        },
        "2456484786f94873855a4e23661cb52d": {
          "model_module": "@jupyter-widgets/controls",
          "model_name": "HBoxModel",
          "model_module_version": "1.5.0",
          "state": {
            "_view_name": "HBoxView",
            "_dom_classes": [],
            "_model_name": "HBoxModel",
            "_view_module": "@jupyter-widgets/controls",
            "_model_module_version": "1.5.0",
            "_view_count": null,
            "_view_module_version": "1.5.0",
            "box_style": "",
            "layout": "IPY_MODEL_92c9c1e0bcb14b6c84639cccba02c43a",
            "_model_module": "@jupyter-widgets/controls",
            "children": [
              "IPY_MODEL_11a1b5dd5f9948c3851cc254748ba2b3",
              "IPY_MODEL_1762de53522645f8ae2f7f9159d3473b",
              "IPY_MODEL_c4ff3d45d6e54711a7d7a90f783bc07c"
            ]
          }
        },
        "92c9c1e0bcb14b6c84639cccba02c43a": {
          "model_module": "@jupyter-widgets/base",
          "model_name": "LayoutModel",
          "model_module_version": "1.2.0",
          "state": {
            "_view_name": "LayoutView",
            "grid_template_rows": null,
            "right": null,
            "justify_content": null,
            "_view_module": "@jupyter-widgets/base",
            "overflow": null,
            "_model_module_version": "1.2.0",
            "_view_count": null,
            "flex_flow": null,
            "width": null,
            "min_width": null,
            "border": null,
            "align_items": null,
            "bottom": null,
            "_model_module": "@jupyter-widgets/base",
            "top": null,
            "grid_column": null,
            "overflow_y": null,
            "overflow_x": null,
            "grid_auto_flow": null,
            "grid_area": null,
            "grid_template_columns": null,
            "flex": null,
            "_model_name": "LayoutModel",
            "justify_items": null,
            "grid_row": null,
            "max_height": null,
            "align_content": null,
            "visibility": null,
            "align_self": null,
            "height": null,
            "min_height": null,
            "padding": null,
            "grid_auto_rows": null,
            "grid_gap": null,
            "max_width": null,
            "order": null,
            "_view_module_version": "1.2.0",
            "grid_template_areas": null,
            "object_position": null,
            "object_fit": null,
            "grid_auto_columns": null,
            "margin": null,
            "display": null,
            "left": null
          }
        },
        "11a1b5dd5f9948c3851cc254748ba2b3": {
          "model_module": "@jupyter-widgets/controls",
          "model_name": "HTMLModel",
          "model_module_version": "1.5.0",
          "state": {
            "_view_name": "HTMLView",
            "style": "IPY_MODEL_7ea082af5be645a18db58a256d86a26a",
            "_dom_classes": [],
            "description": "",
            "_model_name": "HTMLModel",
            "placeholder": "​",
            "_view_module": "@jupyter-widgets/controls",
            "_model_module_version": "1.5.0",
            "value": "",
            "_view_count": null,
            "_view_module_version": "1.5.0",
            "description_tooltip": null,
            "_model_module": "@jupyter-widgets/controls",
            "layout": "IPY_MODEL_2757596448084f7f83da7342596e1ebc"
          }
        },
        "1762de53522645f8ae2f7f9159d3473b": {
          "model_module": "@jupyter-widgets/controls",
          "model_name": "FloatProgressModel",
          "model_module_version": "1.5.0",
          "state": {
            "_view_name": "ProgressView",
            "style": "IPY_MODEL_9e2983289c5b437e93062fdfc4bd289f",
            "_dom_classes": [],
            "description": "",
            "_model_name": "FloatProgressModel",
            "bar_style": "success",
            "max": 1648877,
            "_view_module": "@jupyter-widgets/controls",
            "_model_module_version": "1.5.0",
            "value": 1648877,
            "_view_count": null,
            "_view_module_version": "1.5.0",
            "orientation": "horizontal",
            "min": 0,
            "description_tooltip": null,
            "_model_module": "@jupyter-widgets/controls",
            "layout": "IPY_MODEL_0df9776457b64c0c933966049990aabf"
          }
        },
        "c4ff3d45d6e54711a7d7a90f783bc07c": {
          "model_module": "@jupyter-widgets/controls",
          "model_name": "HTMLModel",
          "model_module_version": "1.5.0",
          "state": {
            "_view_name": "HTMLView",
            "style": "IPY_MODEL_cb136346b0114499b71d5b4a91a972bf",
            "_dom_classes": [],
            "description": "",
            "_model_name": "HTMLModel",
            "placeholder": "​",
            "_view_module": "@jupyter-widgets/controls",
            "_model_module_version": "1.5.0",
            "value": " 1649664/? [00:00&lt;00:00, 10065881.60it/s]",
            "_view_count": null,
            "_view_module_version": "1.5.0",
            "description_tooltip": null,
            "_model_module": "@jupyter-widgets/controls",
            "layout": "IPY_MODEL_020085d8f19d4c4c845e4a8326f96292"
          }
        },
        "7ea082af5be645a18db58a256d86a26a": {
          "model_module": "@jupyter-widgets/controls",
          "model_name": "DescriptionStyleModel",
          "model_module_version": "1.5.0",
          "state": {
            "_view_name": "StyleView",
            "_model_name": "DescriptionStyleModel",
            "description_width": "",
            "_view_module": "@jupyter-widgets/base",
            "_model_module_version": "1.5.0",
            "_view_count": null,
            "_view_module_version": "1.2.0",
            "_model_module": "@jupyter-widgets/controls"
          }
        },
        "2757596448084f7f83da7342596e1ebc": {
          "model_module": "@jupyter-widgets/base",
          "model_name": "LayoutModel",
          "model_module_version": "1.2.0",
          "state": {
            "_view_name": "LayoutView",
            "grid_template_rows": null,
            "right": null,
            "justify_content": null,
            "_view_module": "@jupyter-widgets/base",
            "overflow": null,
            "_model_module_version": "1.2.0",
            "_view_count": null,
            "flex_flow": null,
            "width": null,
            "min_width": null,
            "border": null,
            "align_items": null,
            "bottom": null,
            "_model_module": "@jupyter-widgets/base",
            "top": null,
            "grid_column": null,
            "overflow_y": null,
            "overflow_x": null,
            "grid_auto_flow": null,
            "grid_area": null,
            "grid_template_columns": null,
            "flex": null,
            "_model_name": "LayoutModel",
            "justify_items": null,
            "grid_row": null,
            "max_height": null,
            "align_content": null,
            "visibility": null,
            "align_self": null,
            "height": null,
            "min_height": null,
            "padding": null,
            "grid_auto_rows": null,
            "grid_gap": null,
            "max_width": null,
            "order": null,
            "_view_module_version": "1.2.0",
            "grid_template_areas": null,
            "object_position": null,
            "object_fit": null,
            "grid_auto_columns": null,
            "margin": null,
            "display": null,
            "left": null
          }
        },
        "9e2983289c5b437e93062fdfc4bd289f": {
          "model_module": "@jupyter-widgets/controls",
          "model_name": "ProgressStyleModel",
          "model_module_version": "1.5.0",
          "state": {
            "_view_name": "StyleView",
            "_model_name": "ProgressStyleModel",
            "description_width": "",
            "_view_module": "@jupyter-widgets/base",
            "_model_module_version": "1.5.0",
            "_view_count": null,
            "_view_module_version": "1.2.0",
            "bar_color": null,
            "_model_module": "@jupyter-widgets/controls"
          }
        },
        "0df9776457b64c0c933966049990aabf": {
          "model_module": "@jupyter-widgets/base",
          "model_name": "LayoutModel",
          "model_module_version": "1.2.0",
          "state": {
            "_view_name": "LayoutView",
            "grid_template_rows": null,
            "right": null,
            "justify_content": null,
            "_view_module": "@jupyter-widgets/base",
            "overflow": null,
            "_model_module_version": "1.2.0",
            "_view_count": null,
            "flex_flow": null,
            "width": null,
            "min_width": null,
            "border": null,
            "align_items": null,
            "bottom": null,
            "_model_module": "@jupyter-widgets/base",
            "top": null,
            "grid_column": null,
            "overflow_y": null,
            "overflow_x": null,
            "grid_auto_flow": null,
            "grid_area": null,
            "grid_template_columns": null,
            "flex": null,
            "_model_name": "LayoutModel",
            "justify_items": null,
            "grid_row": null,
            "max_height": null,
            "align_content": null,
            "visibility": null,
            "align_self": null,
            "height": null,
            "min_height": null,
            "padding": null,
            "grid_auto_rows": null,
            "grid_gap": null,
            "max_width": null,
            "order": null,
            "_view_module_version": "1.2.0",
            "grid_template_areas": null,
            "object_position": null,
            "object_fit": null,
            "grid_auto_columns": null,
            "margin": null,
            "display": null,
            "left": null
          }
        },
        "cb136346b0114499b71d5b4a91a972bf": {
          "model_module": "@jupyter-widgets/controls",
          "model_name": "DescriptionStyleModel",
          "model_module_version": "1.5.0",
          "state": {
            "_view_name": "StyleView",
            "_model_name": "DescriptionStyleModel",
            "description_width": "",
            "_view_module": "@jupyter-widgets/base",
            "_model_module_version": "1.5.0",
            "_view_count": null,
            "_view_module_version": "1.2.0",
            "_model_module": "@jupyter-widgets/controls"
          }
        },
        "020085d8f19d4c4c845e4a8326f96292": {
          "model_module": "@jupyter-widgets/base",
          "model_name": "LayoutModel",
          "model_module_version": "1.2.0",
          "state": {
            "_view_name": "LayoutView",
            "grid_template_rows": null,
            "right": null,
            "justify_content": null,
            "_view_module": "@jupyter-widgets/base",
            "overflow": null,
            "_model_module_version": "1.2.0",
            "_view_count": null,
            "flex_flow": null,
            "width": null,
            "min_width": null,
            "border": null,
            "align_items": null,
            "bottom": null,
            "_model_module": "@jupyter-widgets/base",
            "top": null,
            "grid_column": null,
            "overflow_y": null,
            "overflow_x": null,
            "grid_auto_flow": null,
            "grid_area": null,
            "grid_template_columns": null,
            "flex": null,
            "_model_name": "LayoutModel",
            "justify_items": null,
            "grid_row": null,
            "max_height": null,
            "align_content": null,
            "visibility": null,
            "align_self": null,
            "height": null,
            "min_height": null,
            "padding": null,
            "grid_auto_rows": null,
            "grid_gap": null,
            "max_width": null,
            "order": null,
            "_view_module_version": "1.2.0",
            "grid_template_areas": null,
            "object_position": null,
            "object_fit": null,
            "grid_auto_columns": null,
            "margin": null,
            "display": null,
            "left": null
          }
        },
        "521b495712274486821a9b76db638080": {
          "model_module": "@jupyter-widgets/controls",
          "model_name": "HBoxModel",
          "model_module_version": "1.5.0",
          "state": {
            "_view_name": "HBoxView",
            "_dom_classes": [],
            "_model_name": "HBoxModel",
            "_view_module": "@jupyter-widgets/controls",
            "_model_module_version": "1.5.0",
            "_view_count": null,
            "_view_module_version": "1.5.0",
            "box_style": "",
            "layout": "IPY_MODEL_44311945e61c4fa2abeb0d1a0572fd03",
            "_model_module": "@jupyter-widgets/controls",
            "children": [
              "IPY_MODEL_58037986beaf41d4b65dda58ecd00966",
              "IPY_MODEL_6524157782d44d5394297d5d248b090f",
              "IPY_MODEL_a8e8331c63ae4b8990f80cb2a26d27ca"
            ]
          }
        },
        "44311945e61c4fa2abeb0d1a0572fd03": {
          "model_module": "@jupyter-widgets/base",
          "model_name": "LayoutModel",
          "model_module_version": "1.2.0",
          "state": {
            "_view_name": "LayoutView",
            "grid_template_rows": null,
            "right": null,
            "justify_content": null,
            "_view_module": "@jupyter-widgets/base",
            "overflow": null,
            "_model_module_version": "1.2.0",
            "_view_count": null,
            "flex_flow": null,
            "width": null,
            "min_width": null,
            "border": null,
            "align_items": null,
            "bottom": null,
            "_model_module": "@jupyter-widgets/base",
            "top": null,
            "grid_column": null,
            "overflow_y": null,
            "overflow_x": null,
            "grid_auto_flow": null,
            "grid_area": null,
            "grid_template_columns": null,
            "flex": null,
            "_model_name": "LayoutModel",
            "justify_items": null,
            "grid_row": null,
            "max_height": null,
            "align_content": null,
            "visibility": null,
            "align_self": null,
            "height": null,
            "min_height": null,
            "padding": null,
            "grid_auto_rows": null,
            "grid_gap": null,
            "max_width": null,
            "order": null,
            "_view_module_version": "1.2.0",
            "grid_template_areas": null,
            "object_position": null,
            "object_fit": null,
            "grid_auto_columns": null,
            "margin": null,
            "display": null,
            "left": null
          }
        },
        "58037986beaf41d4b65dda58ecd00966": {
          "model_module": "@jupyter-widgets/controls",
          "model_name": "HTMLModel",
          "model_module_version": "1.5.0",
          "state": {
            "_view_name": "HTMLView",
            "style": "IPY_MODEL_d978ad7407e447f8b31e45fa68cb35ba",
            "_dom_classes": [],
            "description": "",
            "_model_name": "HTMLModel",
            "placeholder": "​",
            "_view_module": "@jupyter-widgets/controls",
            "_model_module_version": "1.5.0",
            "value": "",
            "_view_count": null,
            "_view_module_version": "1.5.0",
            "description_tooltip": null,
            "_model_module": "@jupyter-widgets/controls",
            "layout": "IPY_MODEL_cecd2cc8af9a405abcc3d64289c98acb"
          }
        },
        "6524157782d44d5394297d5d248b090f": {
          "model_module": "@jupyter-widgets/controls",
          "model_name": "FloatProgressModel",
          "model_module_version": "1.5.0",
          "state": {
            "_view_name": "ProgressView",
            "style": "IPY_MODEL_d425f4b2d044445ab2bbfd2b5f15bdcc",
            "_dom_classes": [],
            "description": "",
            "_model_name": "FloatProgressModel",
            "bar_style": "success",
            "max": 4542,
            "_view_module": "@jupyter-widgets/controls",
            "_model_module_version": "1.5.0",
            "value": 4542,
            "_view_count": null,
            "_view_module_version": "1.5.0",
            "orientation": "horizontal",
            "min": 0,
            "description_tooltip": null,
            "_model_module": "@jupyter-widgets/controls",
            "layout": "IPY_MODEL_fe443b7b5d014d1792e20917c112e08d"
          }
        },
        "a8e8331c63ae4b8990f80cb2a26d27ca": {
          "model_module": "@jupyter-widgets/controls",
          "model_name": "HTMLModel",
          "model_module_version": "1.5.0",
          "state": {
            "_view_name": "HTMLView",
            "style": "IPY_MODEL_09a0c68ef72c42aa830061982a8e188e",
            "_dom_classes": [],
            "description": "",
            "_model_name": "HTMLModel",
            "placeholder": "​",
            "_view_module": "@jupyter-widgets/controls",
            "_model_module_version": "1.5.0",
            "value": " 5120/? [00:00&lt;00:00, 83290.36it/s]",
            "_view_count": null,
            "_view_module_version": "1.5.0",
            "description_tooltip": null,
            "_model_module": "@jupyter-widgets/controls",
            "layout": "IPY_MODEL_5780088ec77344cbb8373217c5323f69"
          }
        },
        "d978ad7407e447f8b31e45fa68cb35ba": {
          "model_module": "@jupyter-widgets/controls",
          "model_name": "DescriptionStyleModel",
          "model_module_version": "1.5.0",
          "state": {
            "_view_name": "StyleView",
            "_model_name": "DescriptionStyleModel",
            "description_width": "",
            "_view_module": "@jupyter-widgets/base",
            "_model_module_version": "1.5.0",
            "_view_count": null,
            "_view_module_version": "1.2.0",
            "_model_module": "@jupyter-widgets/controls"
          }
        },
        "cecd2cc8af9a405abcc3d64289c98acb": {
          "model_module": "@jupyter-widgets/base",
          "model_name": "LayoutModel",
          "model_module_version": "1.2.0",
          "state": {
            "_view_name": "LayoutView",
            "grid_template_rows": null,
            "right": null,
            "justify_content": null,
            "_view_module": "@jupyter-widgets/base",
            "overflow": null,
            "_model_module_version": "1.2.0",
            "_view_count": null,
            "flex_flow": null,
            "width": null,
            "min_width": null,
            "border": null,
            "align_items": null,
            "bottom": null,
            "_model_module": "@jupyter-widgets/base",
            "top": null,
            "grid_column": null,
            "overflow_y": null,
            "overflow_x": null,
            "grid_auto_flow": null,
            "grid_area": null,
            "grid_template_columns": null,
            "flex": null,
            "_model_name": "LayoutModel",
            "justify_items": null,
            "grid_row": null,
            "max_height": null,
            "align_content": null,
            "visibility": null,
            "align_self": null,
            "height": null,
            "min_height": null,
            "padding": null,
            "grid_auto_rows": null,
            "grid_gap": null,
            "max_width": null,
            "order": null,
            "_view_module_version": "1.2.0",
            "grid_template_areas": null,
            "object_position": null,
            "object_fit": null,
            "grid_auto_columns": null,
            "margin": null,
            "display": null,
            "left": null
          }
        },
        "d425f4b2d044445ab2bbfd2b5f15bdcc": {
          "model_module": "@jupyter-widgets/controls",
          "model_name": "ProgressStyleModel",
          "model_module_version": "1.5.0",
          "state": {
            "_view_name": "StyleView",
            "_model_name": "ProgressStyleModel",
            "description_width": "",
            "_view_module": "@jupyter-widgets/base",
            "_model_module_version": "1.5.0",
            "_view_count": null,
            "_view_module_version": "1.2.0",
            "bar_color": null,
            "_model_module": "@jupyter-widgets/controls"
          }
        },
        "fe443b7b5d014d1792e20917c112e08d": {
          "model_module": "@jupyter-widgets/base",
          "model_name": "LayoutModel",
          "model_module_version": "1.2.0",
          "state": {
            "_view_name": "LayoutView",
            "grid_template_rows": null,
            "right": null,
            "justify_content": null,
            "_view_module": "@jupyter-widgets/base",
            "overflow": null,
            "_model_module_version": "1.2.0",
            "_view_count": null,
            "flex_flow": null,
            "width": null,
            "min_width": null,
            "border": null,
            "align_items": null,
            "bottom": null,
            "_model_module": "@jupyter-widgets/base",
            "top": null,
            "grid_column": null,
            "overflow_y": null,
            "overflow_x": null,
            "grid_auto_flow": null,
            "grid_area": null,
            "grid_template_columns": null,
            "flex": null,
            "_model_name": "LayoutModel",
            "justify_items": null,
            "grid_row": null,
            "max_height": null,
            "align_content": null,
            "visibility": null,
            "align_self": null,
            "height": null,
            "min_height": null,
            "padding": null,
            "grid_auto_rows": null,
            "grid_gap": null,
            "max_width": null,
            "order": null,
            "_view_module_version": "1.2.0",
            "grid_template_areas": null,
            "object_position": null,
            "object_fit": null,
            "grid_auto_columns": null,
            "margin": null,
            "display": null,
            "left": null
          }
        },
        "09a0c68ef72c42aa830061982a8e188e": {
          "model_module": "@jupyter-widgets/controls",
          "model_name": "DescriptionStyleModel",
          "model_module_version": "1.5.0",
          "state": {
            "_view_name": "StyleView",
            "_model_name": "DescriptionStyleModel",
            "description_width": "",
            "_view_module": "@jupyter-widgets/base",
            "_model_module_version": "1.5.0",
            "_view_count": null,
            "_view_module_version": "1.2.0",
            "_model_module": "@jupyter-widgets/controls"
          }
        },
        "5780088ec77344cbb8373217c5323f69": {
          "model_module": "@jupyter-widgets/base",
          "model_name": "LayoutModel",
          "model_module_version": "1.2.0",
          "state": {
            "_view_name": "LayoutView",
            "grid_template_rows": null,
            "right": null,
            "justify_content": null,
            "_view_module": "@jupyter-widgets/base",
            "overflow": null,
            "_model_module_version": "1.2.0",
            "_view_count": null,
            "flex_flow": null,
            "width": null,
            "min_width": null,
            "border": null,
            "align_items": null,
            "bottom": null,
            "_model_module": "@jupyter-widgets/base",
            "top": null,
            "grid_column": null,
            "overflow_y": null,
            "overflow_x": null,
            "grid_auto_flow": null,
            "grid_area": null,
            "grid_template_columns": null,
            "flex": null,
            "_model_name": "LayoutModel",
            "justify_items": null,
            "grid_row": null,
            "max_height": null,
            "align_content": null,
            "visibility": null,
            "align_self": null,
            "height": null,
            "min_height": null,
            "padding": null,
            "grid_auto_rows": null,
            "grid_gap": null,
            "max_width": null,
            "order": null,
            "_view_module_version": "1.2.0",
            "grid_template_areas": null,
            "object_position": null,
            "object_fit": null,
            "grid_auto_columns": null,
            "margin": null,
            "display": null,
            "left": null
          }
        }
      }
    }
  },
  "cells": [
    {
      "cell_type": "markdown",
      "metadata": {
        "id": "view-in-github",
        "colab_type": "text"
      },
      "source": [
        "<a href=\"https://colab.research.google.com/github/mkkim007/TotochTeam2/blob/main/Day2/%EC%9D%B4%EC%9B%83%EC%A7%91_%ED%86%A0%ED%86%A0%EC%B9%98_Day2_%EC%8B%A4%EC%8A%B5%EC%98%88%EC%A0%9C(%EA%B9%80%EB%AF%BC%EA%B2%BD).ipynb\" target=\"_parent\"><img src=\"https://colab.research.google.com/assets/colab-badge.svg\" alt=\"Open In Colab\"/></a>"
      ]
    },
    {
      "cell_type": "markdown",
      "metadata": {
        "id": "i11-gjm5EUYg"
      },
      "source": [
        "# 이웃집 토토치 파이토치 : Day 2\n",
        "---"
      ]
    },
    {
      "cell_type": "markdown",
      "metadata": {
        "id": "wz-FLbAIEWL7"
      },
      "source": [
        "해당 게시물은 파이토치 공식 튜토리얼 중 [예제로 배우는 파이토치(PYTORCH)](https://tutorials.pytorch.kr/beginner/pytorch_with_examples.html#pytorch)와 [TORCH.NN 이 실제로 무엇인가요?](https://tutorials.pytorch.kr/beginner/nn_tutorial.html?highlight=mnist) 그리고 ['김승환'님의 블로그](https://velog.io/@hwanython/%EC%8B%A0%EA%B2%BD%EB%A7%9D-%EB%84%98%ED%8C%8C%EC%9D%B4%EB%A1%9C-%EB%A7%8C%EB%93%A4%EC%96%B4-%EB%B3%B4%EA%B8%B0)를 토대로 작성되었습니다."
      ]
    },
    {
      "cell_type": "markdown",
      "metadata": {
        "id": "g9hdx__OFx4r"
      },
      "source": [
        "### 주요키워드\n",
        "- Tensor\n",
        "- Autograd\n",
        "- Transform\n",
        "- Torch.nn"
      ]
    },
    {
      "cell_type": "markdown",
      "metadata": {
        "id": "hGkyRJ1jGC3B"
      },
      "source": [
        "### 목차\n",
        "\n",
        "\n",
        "1.   Numpy로 시작하는 MNIST  \n",
        "    (1) MNIST 데이터 준비  \n",
        "    (2) Numpy로 MNIST분류기\n",
        "2.   Pytorch로 구현하는 MNIST 손글씨 분류기\n",
        "\n",
        "\n",
        "\n",
        "\n"
      ]
    },
    {
      "cell_type": "markdown",
      "metadata": {
        "id": "rUkmfYFVJEd3"
      },
      "source": [
        "## 1. Numpy로 시작하는 MNIST\n",
        "---\n",
        "파이토치를 처음 배우는 입장에서 코드를 처음부터 직접 코드를 짜는 것은 매우 어려운 일에 속합니다.  \n",
        "파이토치 코드의 이해를 좀 더 돕기위해 Numpy로 구현 된 MNIST분류기의 코드를 하나하나 바꿔가면서 파이토치 함수들의 이해를 돕고 차후에 프로젝트를 진행할 때에 좀 더 수월할 수 있도록 아래와 같이 실습을 진행하겠습니다."
      ]
    },
    {
      "cell_type": "markdown",
      "metadata": {
        "id": "6I1_Vk1PDsYR"
      },
      "source": [
        "### (1) MNIST 데이터 준비\n",
        "전체 실습과정에서 우리는 손으로 쓴 숫자(0에서 9 사이)의 흑백 이미지로 구성된 클래식\n",
        "[MNIST](http://deeplearning.net/data/mnist/) 데이터셋을 사용할 것 입니다.\n",
        "\n",
        "우리는 경로 설정을 담당하는 (Python3 표준 라이브러리의 일부인)\n",
        "[pathlib](https://docs.python.org/3/library/pathlib.html) 을 사용할 것이고,\n",
        "[requests](http://docs.python-requests.org/en/master/) 를 이용하여\n",
        "데이터셋을 다운로드 할 것입니다. 우리는 모듈을 사용할 때만 임포트(import) 할 것이므로,\n",
        "여러분은 매 포인트마다 정확히 어떤 것이 사용되는지 확인할 수 있습니다."
      ]
    },
    {
      "cell_type": "code",
      "metadata": {
        "id": "mqKCP0_cAfDP"
      },
      "source": [
        "from pathlib import Path\n",
        "import requests\n",
        "\n",
        "DATA_PATH = Path(\"data\")\n",
        "PATH = DATA_PATH / \"mnist\"\n",
        "\n",
        "PATH.mkdir(parents=True, exist_ok=True)\n",
        "\n",
        "URL = \"https://github.com/pytorch/tutorials/raw/master/_static/\"\n",
        "FILENAME = \"mnist.pkl.gz\"\n",
        "\n",
        "if not (PATH / FILENAME).exists():\n",
        "        content = requests.get(URL + FILENAME).content\n",
        "        (PATH / FILENAME).open(\"wb\").write(content)"
      ],
      "execution_count": 1,
      "outputs": []
    },
    {
      "cell_type": "code",
      "metadata": {
        "id": "rbW-AtyODbMK"
      },
      "source": [
        "import pickle\n",
        "import gzip\n",
        "\n",
        "with gzip.open((PATH / FILENAME).as_posix(), \"rb\") as f:\n",
        "        ((x_train, y_train), (x_valid, y_valid), _) = pickle.load(f, encoding=\"latin-1\")"
      ],
      "execution_count": 2,
      "outputs": []
    },
    {
      "cell_type": "code",
      "metadata": {
        "id": "6GmdDPpUDgrX",
        "colab": {
          "base_uri": "https://localhost:8080/",
          "height": 283
        },
        "outputId": "05298fe0-21cc-4bea-9744-2d497ff24a86"
      },
      "source": [
        "from matplotlib import pyplot as plt\n",
        "import numpy as np\n",
        "\n",
        "plt.imshow(x_train[0].reshape((28, 28)), cmap=\"gray\")\n",
        "print(x_train.shape)"
      ],
      "execution_count": 3,
      "outputs": [
        {
          "output_type": "stream",
          "name": "stdout",
          "text": [
            "(50000, 784)\n"
          ]
        },
        {
          "output_type": "display_data",
          "data": {
            "image/png": "[encoded data removed]",
            "text/plain": [
              "<Figure size 432x288 with 1 Axes>"
            ]
          },
          "metadata": {
            "needs_background": "light"
          }
        }
      ]
    },
    {
      "cell_type": "code",
      "metadata": {
        "id": "jaM3TQpJf9Li",
        "colab": {
          "base_uri": "https://localhost:8080/"
        },
        "outputId": "95917529-cc3f-4351-81ca-d62ed729426e"
      },
      "source": [
        "y_train[0]"
      ],
      "execution_count": 4,
      "outputs": [
        {
          "output_type": "execute_result",
          "data": {
            "text/plain": [
              "5"
            ]
          },
          "metadata": {},
          "execution_count": 4
        }
      ]
    },
    {
      "cell_type": "code",
      "metadata": {
        "id": "nTCB66PC4wq_",
        "colab": {
          "base_uri": "https://localhost:8080/"
        },
        "outputId": "a3b0f53b-04a2-4b51-cb2d-647d28ee58c5"
      },
      "source": [
        "y_train.shape"
      ],
      "execution_count": 5,
      "outputs": [
        {
          "output_type": "execute_result",
          "data": {
            "text/plain": [
              "(50000,)"
            ]
          },
          "metadata": {},
          "execution_count": 5
        }
      ]
    },
    {
      "cell_type": "code",
      "metadata": {
        "id": "QW44kQebNaiz",
        "colab": {
          "base_uri": "https://localhost:8080/",
          "height": 283
        },
        "outputId": "214ced8d-5122-48c7-8fa4-f8387aedf240"
      },
      "source": [
        "plt.imshow(x_valid[9999].reshape((28, 28)), cmap=\"gray\")\n",
        "print(x_valid.shape)"
      ],
      "execution_count": 6,
      "outputs": [
        {
          "output_type": "stream",
          "name": "stdout",
          "text": [
            "(10000, 784)\n"
          ]
        },
        {
          "output_type": "display_data",
          "data": {
            "image/png": "[encoded data removed]",
            "text/plain": [
              "<Figure size 432x288 with 1 Axes>"
            ]
          },
          "metadata": {
            "needs_background": "light"
          }
        }
      ]
    },
    {
      "cell_type": "code",
      "metadata": {
        "id": "-fZSHxa9LHpB",
        "colab": {
          "base_uri": "https://localhost:8080/"
        },
        "outputId": "148a9045-355a-4f27-f33c-cdb8c03e0dc5"
      },
      "source": [
        "print(x_train, y_train)\n",
        "print(x_train.shape)\n",
        "print(x_valid.shape)\n",
        "print(type(x_train))\n",
        "print(y_train.min(), y_train.max())"
      ],
      "execution_count": 7,
      "outputs": [
        {
          "output_type": "stream",
          "name": "stdout",
          "text": [
            "[[0. 0. 0. ... 0. 0. 0.]\n",
            " [0. 0. 0. ... 0. 0. 0.]\n",
            " [0. 0. 0. ... 0. 0. 0.]\n",
            " ...\n",
            " [0. 0. 0. ... 0. 0. 0.]\n",
            " [0. 0. 0. ... 0. 0. 0.]\n",
            " [0. 0. 0. ... 0. 0. 0.]] [5 0 4 ... 8 4 8]\n",
            "(50000, 784)\n",
            "(10000, 784)\n",
            "<class 'numpy.ndarray'>\n",
            "0 9\n"
          ]
        }
      ]
    },
    {
      "cell_type": "markdown",
      "metadata": {
        "id": "L-9VOAD8LnHG"
      },
      "source": [
        "총 6000개의 데이터셋을 불러오는데 성공하였습니다.  \n",
        "그럼 이제 Numpy코드로만 MNIST 분류기를 구현하겠습니다."
      ]
    },
    {
      "cell_type": "markdown",
      "metadata": {
        "id": "5GZCyCaEMt8b"
      },
      "source": [
        "### (2) Numpy로 구현한 MNIST분류기\n",
        "---"
      ]
    },
    {
      "cell_type": "code",
      "metadata": {
        "id": "yqrfk96Pbn3o"
      },
      "source": [
        "weight_init_std = 0.1\n",
        "input_size = 784\n",
        "hidden_size = 256\n",
        "output_size = 10"
      ],
      "execution_count": 8,
      "outputs": []
    },
    {
      "cell_type": "code",
      "metadata": {
        "id": "AAgWMIlUbrTE"
      },
      "source": [
        "def affine_layer_forward(X, W, b):\n",
        "    y = np.dot(X, W) + b\n",
        "    cache = (X, W, b)\n",
        "    return y, cache"
      ],
      "execution_count": 9,
      "outputs": []
    },
    {
      "cell_type": "code",
      "metadata": {
        "id": "x-_qPrTabxv-"
      },
      "source": [
        "def sigmoid(x):\n",
        "    return 1 / (1 + np.exp(-x))  "
      ],
      "execution_count": 10,
      "outputs": []
    },
    {
      "cell_type": "code",
      "metadata": {
        "id": "_NWUHeLgb5r8"
      },
      "source": [
        "def softmax(x):\n",
        "    if x.ndim == 2:\n",
        "        x = x.T\n",
        "        x = x - np.max(x, axis=0)\n",
        "        y = np.exp(x) / np.sum(np.exp(x), axis=0)\n",
        "        return y.T \n",
        "\n",
        "    x = x - np.max(x) # 오버플로 대책\n",
        "    return np.exp(x) / np.sum(np.exp(x))"
      ],
      "execution_count": 11,
      "outputs": []
    },
    {
      "cell_type": "code",
      "metadata": {
        "id": "aHD4nU2Qb73l"
      },
      "source": [
        "def _change_one_hot_label(X, num_category):\n",
        "    T = np.zeros((X.size, num_category))\n",
        "    for idx, row in enumerate(T):\n",
        "        row[X[idx]] = 1\n",
        "        \n",
        "    return T"
      ],
      "execution_count": 12,
      "outputs": []
    },
    {
      "cell_type": "code",
      "metadata": {
        "id": "gTZsO4j2b9ri"
      },
      "source": [
        "def cross_entropy_error(y, t):\n",
        "    if y.ndim == 1:\n",
        "        t = t.reshape(1, t.size)\n",
        "        y = y.reshape(1, y.size)\n",
        "        \n",
        "    # 훈련 데이터가 원-핫 벡터라면 정답 레이블의 인덱스로 반환\n",
        "    if t.size == y.size:\n",
        "        t = t.argmax(axis=1)\n",
        "             \n",
        "    batch_size = y.shape[0]\n",
        "    return -np.sum(np.log(y[np.arange(batch_size), t])) / batch_size"
      ],
      "execution_count": 13,
      "outputs": []
    },
    {
      "cell_type": "code",
      "metadata": {
        "id": "ARbNYNaedLvv"
      },
      "source": [
        "def sigmoid_grad(x):\n",
        "    return (1.0 - sigmoid(x)) * sigmoid(x)"
      ],
      "execution_count": 14,
      "outputs": []
    },
    {
      "cell_type": "code",
      "metadata": {
        "id": "_XGs98mCdWJe"
      },
      "source": [
        "def update_params(W1, b1, W2, b2, dW1, db1, dW2, db2, learning_rate):\n",
        "    W1 = W1 - learning_rate*dW1\n",
        "    b1 = b1 - learning_rate*db1\n",
        "    W2 = W2 - learning_rate*dW2\n",
        "    b2 = b2 - learning_rate*db2\n",
        "    return W1, b1, W2, b2"
      ],
      "execution_count": 15,
      "outputs": []
    },
    {
      "cell_type": "code",
      "metadata": {
        "id": "J35ffMjecDsY"
      },
      "source": [
        "def affine_layer_backward(dy, cache):\n",
        "    X, W, b = cache\n",
        "    dX = np.dot(dy, W.T)\n",
        "    dW = np.dot(X.T, dy)\n",
        "    db = np.sum(dy, axis=0)\n",
        "    return dX, dW, db"
      ],
      "execution_count": 16,
      "outputs": []
    },
    {
      "cell_type": "code",
      "metadata": {
        "id": "FTqf6HJKc8tA"
      },
      "source": [
        "def predict(W1, b1, W2, b2, X):\n",
        "    a1 = np.dot(X, W1) + b1\n",
        "    z1 = sigmoid(a1)\n",
        "    a2 = np.dot(z1, W2) + b2\n",
        "    y = softmax(a2)\n",
        "\n",
        "    return y"
      ],
      "execution_count": 17,
      "outputs": []
    },
    {
      "cell_type": "code",
      "metadata": {
        "id": "tFVnB_35c97e"
      },
      "source": [
        "def accuracy(W1, b1, W2, b2, x, y):\n",
        "    y_hat = predict(W1, b1, W2, b2, x)\n",
        "    y_hat = np.argmax(y_hat, axis=1)\n",
        "\n",
        "    accuracy = np.sum(y_hat == y) / float(x.shape[0])\n",
        "    return accuracy"
      ],
      "execution_count": 18,
      "outputs": []
    },
    {
      "cell_type": "code",
      "metadata": {
        "id": "JTsSds7UcHFJ"
      },
      "source": [
        "W1 = weight_init_std * np.random.randn(input_size, hidden_size)\n",
        "b1 = np.zeros(hidden_size)\n",
        "W2 = weight_init_std * np.random.randn(hidden_size, output_size)\n",
        "b2 = np.zeros(output_size)\n",
        "\n",
        "def train_step(X, Y, W1, b1, W2, b2, learning_rate=0.1, verbose=False):\n",
        "    a1, cache1 = affine_layer_forward(X, W1, b1)\n",
        "    z1 = sigmoid(a1)\n",
        "    a2, cache2 = affine_layer_forward(z1, W2, b2)\n",
        "    y_hat = softmax(a2)\n",
        "    t = _change_one_hot_label(Y, 10)\n",
        "    Loss = cross_entropy_error(y_hat, t)\n",
        "\n",
        "    if verbose:\n",
        "        print('---------')\n",
        "        print(y_hat)\n",
        "        print(t)\n",
        "        print('Loss: ', Loss)\n",
        "        \n",
        "    dy = (y_hat - t) / X.shape[0]\n",
        "    dz1, dW2, db2 = affine_layer_backward(dy, cache2)\n",
        "    da1 = sigmoid_grad(a1) * dz1\n",
        "    dX, dW1, db1 = affine_layer_backward(da1, cache1)\n",
        "    \n",
        "    W1, b1, W2, b2 = update_params(W1, b1, W2, b2, dW1, db1, dW2, db2, learning_rate)\n",
        "    \n",
        "    return W1, b1, W2, b2, Loss"
      ],
      "execution_count": 19,
      "outputs": []
    },
    {
      "cell_type": "code",
      "metadata": {
        "id": "jDfdKvQPcQ27"
      },
      "source": [
        "def init_params(input_size, hidden_size, output_size, weight_init_std=0.01):\n",
        "\n",
        "    W1 = weight_init_std * np.random.randn(input_size, hidden_size)\n",
        "    b1 = np.zeros(hidden_size)\n",
        "    W2 = weight_init_std * np.random.randn(hidden_size, output_size)\n",
        "    b2 = np.zeros(output_size)\n",
        "\n",
        "    print(W1.shape)\n",
        "    print(b1.shape)\n",
        "    print(W2.shape)\n",
        "    print(b2.shape)\n",
        "    \n",
        "    return W1, b1, W2, b2"
      ],
      "execution_count": 20,
      "outputs": []
    },
    {
      "cell_type": "code",
      "metadata": {
        "id": "EwrhQd6Rca9m",
        "colab": {
          "base_uri": "https://localhost:8080/"
        },
        "outputId": "47fbaa68-0bbe-4559-ff37-c26c21eeba73"
      },
      "source": [
        "# 하이퍼파라미터\n",
        "iters_num = 10000  # 반복 횟수를 적절히 설정한다.\n",
        "train_size = x_train.shape[0]\n",
        "batch_size = 100   # 미니배치 크기\n",
        "learning_rate = 0.1\n",
        "\n",
        "train_loss_list = []\n",
        "train_acc_list = []\n",
        "valid_acc_list = []\n",
        "\n",
        "# 1에폭당 반복 수\n",
        "iter_per_epoch = max(train_size / batch_size, 1)\n",
        "\n",
        "W1, b1, W2, b2 = init_params(784, 256, 10)\n",
        "\n",
        "for i in range(iters_num):\n",
        "    # 미니배치 획득\n",
        "    batch_mask = np.random.choice(train_size, batch_size)\n",
        "    x_batch = x_train[batch_mask]\n",
        "    y_batch = y_train[batch_mask]\n",
        "    \n",
        "    W1, b1, W2, b2, Loss = train_step(x_batch, y_batch, W1, b1, W2, b2, learning_rate=0.1, verbose=False)\n",
        "\n",
        "    # 학습 경과 기록\n",
        "    train_loss_list.append(Loss)\n",
        "    \n",
        "    # 1에폭당 정확도 계산\n",
        "    if i % iter_per_epoch == 0:\n",
        "        print(i)\n",
        "        print(f'Train Loss: {Loss:.4f}')\n",
        "        train_acc = accuracy(W1, b1, W2, b2, x_train, y_train)\n",
        "        valid_acc = accuracy(W1, b1, W2, b2, x_valid, y_valid)\n",
        "        train_acc_list.append(train_acc)\n",
        "        valid_acc_list.append(valid_acc)\n",
        "        print(f'Train acc : {train_acc:.2f} \\nValid acc : {valid_acc:.2f}')\n",
        "\n",
        "print(f'final Train acc : {train_acc:.2f} \\nfinal Valid acc : {valid_acc:.2f}')"
      ],
      "execution_count": 21,
      "outputs": [
        {
          "output_type": "stream",
          "name": "stdout",
          "text": [
            "(784, 256)\n",
            "(256,)\n",
            "(256, 10)\n",
            "(10,)\n",
            "0\n",
            "Train Loss: 2.3078\n",
            "Train acc : 0.10 \n",
            "Valid acc : 0.11\n",
            "500\n",
            "Train Loss: 0.6870\n",
            "Train acc : 0.81 \n",
            "Valid acc : 0.83\n",
            "1000\n",
            "Train Loss: 0.3839\n",
            "Train acc : 0.88 \n",
            "Valid acc : 0.89\n",
            "1500\n",
            "Train Loss: 0.3521\n",
            "Train acc : 0.89 \n",
            "Valid acc : 0.90\n",
            "2000\n",
            "Train Loss: 0.3415\n",
            "Train acc : 0.90 \n",
            "Valid acc : 0.91\n",
            "2500\n",
            "Train Loss: 0.2881\n",
            "Train acc : 0.91 \n",
            "Valid acc : 0.91\n",
            "3000\n",
            "Train Loss: 0.2791\n",
            "Train acc : 0.91 \n",
            "Valid acc : 0.92\n",
            "3500\n",
            "Train Loss: 0.2180\n",
            "Train acc : 0.91 \n",
            "Valid acc : 0.92\n",
            "4000\n",
            "Train Loss: 0.2385\n",
            "Train acc : 0.92 \n",
            "Valid acc : 0.92\n",
            "4500\n",
            "Train Loss: 0.2408\n",
            "Train acc : 0.92 \n",
            "Valid acc : 0.92\n",
            "5000\n",
            "Train Loss: 0.2480\n",
            "Train acc : 0.92 \n",
            "Valid acc : 0.93\n",
            "5500\n",
            "Train Loss: 0.1934\n",
            "Train acc : 0.92 \n",
            "Valid acc : 0.93\n",
            "6000\n",
            "Train Loss: 0.2392\n",
            "Train acc : 0.93 \n",
            "Valid acc : 0.93\n",
            "6500\n",
            "Train Loss: 0.3628\n",
            "Train acc : 0.93 \n",
            "Valid acc : 0.93\n",
            "7000\n",
            "Train Loss: 0.2803\n",
            "Train acc : 0.93 \n",
            "Valid acc : 0.93\n",
            "7500\n",
            "Train Loss: 0.1866\n",
            "Train acc : 0.93 \n",
            "Valid acc : 0.94\n",
            "8000\n",
            "Train Loss: 0.1219\n",
            "Train acc : 0.93 \n",
            "Valid acc : 0.94\n",
            "8500\n",
            "Train Loss: 0.2005\n",
            "Train acc : 0.93 \n",
            "Valid acc : 0.94\n",
            "9000\n",
            "Train Loss: 0.3364\n",
            "Train acc : 0.94 \n",
            "Valid acc : 0.94\n",
            "9500\n",
            "Train Loss: 0.1958\n",
            "Train acc : 0.94 \n",
            "Valid acc : 0.94\n",
            "final Train acc : 0.94 \n",
            "final Valid acc : 0.94\n"
          ]
        }
      ]
    },
    {
      "cell_type": "code",
      "metadata": {
        "id": "KvfRK6t754ZQ",
        "colab": {
          "base_uri": "https://localhost:8080/",
          "height": 283
        },
        "outputId": "aab8893c-42e1-41f9-9a92-a0559c8c0718"
      },
      "source": [
        "# Loss 그래프 그리기\n",
        "x = np.arange(len(train_loss_list))\n",
        "plt.plot(x, train_loss_list, label='train acc')\n",
        "plt.xlabel(\"epochs\")\n",
        "plt.ylabel(\"Loss\")\n",
        "plt.ylim(0, 3.0)\n",
        "plt.legend(loc='best')\n",
        "plt.show()"
      ],
      "execution_count": 22,
      "outputs": [
        {
          "output_type": "display_data",
          "data": {
            "image/png": "[encoded data removed]",
            "text/plain": [
              "<Figure size 432x288 with 1 Axes>"
            ]
          },
          "metadata": {
            "needs_background": "light"
          }
        }
      ]
    },
    {
      "cell_type": "markdown",
      "metadata": {
        "id": "RDwKs8s1rGAw"
      },
      "source": [
        "Numpy로만 MNIST손글씨 분류기를 만들어 보았습니다.  \n",
        "총 10000번의 반복문을 돌리면서 최종 94%의 Accuracy를 달성하였습니다.  \n",
        "Numpy로 구현한 모델은 아래 그림과 같은 구조를 가지고 있습니다.  \n",
        "이제 아래의 구조를 Pytorch로 구현한다면 어떻게 바뀌는지 확인해보겠습니다."
      ]
    },
    {
      "cell_type": "markdown",
      "metadata": {
        "id": "Q3kgZEDbYtl1"
      },
      "source": [
        "![classification model structure.png](data:image/png;base64,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)"
      ]
    },
    {
      "cell_type": "markdown",
      "metadata": {
        "id": "2hJYJNB2rnwC"
      },
      "source": [
        "## 2. Pytorch로 구현하는 MNIST 손글씨 분류기\n",
        "---\n",
        "우리는 위에서 Numpy로 모델을 구현했습니다.  \n",
        "Imput부터 Loss를 출력하는 부분까지 구현했었죠.  \n",
        "이제는 Pytorch로 전체적인 흐름을 새로 만들어보겠습니다.  \n",
        "Pytorch로 새로 구현해보는 만큼 데이터셋도 Pytorch에서 제공하는 코드들을 활용하여 다시 받아보도록 하겠습니다.  \n",
        "마치 Keras에서 데이터를 받는 것 처럼요!"
      ]
    },
    {
      "cell_type": "code",
      "metadata": {
        "id": "P64Farr6DiEO"
      },
      "source": [
        "import numpy as np\n",
        "import matplotlib.pyplot as plt\n",
        "import torch\n",
        "import torch.nn as nn    # 파이토치 모듈 중 모델 설계할때 필요한 함수들 \n",
        "import torch.nn.functional as F # 토치.nn 에서 가장 많이 쓰는 함수들\n",
        "from torchvision import transforms, datasets"
      ],
      "execution_count": 23,
      "outputs": []
    },
    {
      "cell_type": "code",
      "metadata": {
        "id": "KjLEEBwVZuWv",
        "colab": {
          "base_uri": "https://localhost:8080/"
        },
        "outputId": "df2390e2-5f45-41cc-8a5a-d31897d24bb1"
      },
      "source": [
        "if torch.cuda.is_available():\n",
        "  DEVICE = torch.device('cuda')\n",
        "else:\n",
        "  DEVICE = torch.device('cpu')\n",
        "\n",
        "print('Using Pytorchversion:', torch.__version__,'\\n','Device:,', DEVICE)"
      ],
      "execution_count": 24,
      "outputs": [
        {
          "output_type": "stream",
          "name": "stdout",
          "text": [
            "Using Pytorchversion: 1.9.0+cu102 \n",
            " Device:, cpu\n"
          ]
        }
      ]
    },
    {
      "cell_type": "code",
      "metadata": {
        "id": "f53lT6j9h9sG"
      },
      "source": [
        "BATCH_SIZE = 32\n",
        "EPOCHS = 10"
      ],
      "execution_count": 25,
      "outputs": []
    },
    {
      "cell_type": "code",
      "metadata": {
        "id": "_JNjsKswiTNA",
        "colab": {
          "base_uri": "https://localhost:8080/",
          "height": 489,
          "referenced_widgets": [
            "2d918e792ac6485f9daf4266209f0d9b",
            "d2e37b29305147e1b531eb42d6f3278f",
            "3871d8c65c1e42aebcbbebdafaccd880",
            "d6033fcaa27a4e30a0ad2652972e0724",
            "d6b54fb7be08490c8a4f89c8e382045a",
            "d5ece5260b7c468aa5bbd42060c1466d",
            "40788c9c11834bac9208556b39da38a8",
            "42c2313c47f64e4791e1c0c1a767d6e3",
            "b6770942831f439db2a4f9a9fc73b285",
            "bca0900c3f2547a4b9cc1440b14ac17f",
            "5ce9d1ac90f040dab4b5a558afac0f68",
            "f29e5ef0ee67477295a810cc5185ea36",
            "58b1551c4643480887e09a190f4263f5",
            "dab27711fbaf45f9a7c9eb754a7031fe",
            "74bc1caced5e4140a3373e661c3f7051",
            "fb7f5b757eb74efa8538fa51d4df9ee8",
            "c954e3226d4b4564ad8c936d4fadef93",
            "2452ba8fc35b4b6d9d7d9f5f7ea65b75",
            "848dea2aa1a94d04a5e9307e48b53b09",
            "67709bc742024c83afe8ab327f5eaa23",
            "c6f91d50aaf143d392888be2aba87b14",
            "000667b26be54a53abb3c64ad6ff9053",
            "2456484786f94873855a4e23661cb52d",
            "92c9c1e0bcb14b6c84639cccba02c43a",
            "11a1b5dd5f9948c3851cc254748ba2b3",
            "1762de53522645f8ae2f7f9159d3473b",
            "c4ff3d45d6e54711a7d7a90f783bc07c",
            "7ea082af5be645a18db58a256d86a26a",
            "2757596448084f7f83da7342596e1ebc",
            "9e2983289c5b437e93062fdfc4bd289f",
            "0df9776457b64c0c933966049990aabf",
            "cb136346b0114499b71d5b4a91a972bf",
            "020085d8f19d4c4c845e4a8326f96292",
            "521b495712274486821a9b76db638080",
            "44311945e61c4fa2abeb0d1a0572fd03",
            "58037986beaf41d4b65dda58ecd00966",
            "6524157782d44d5394297d5d248b090f",
            "a8e8331c63ae4b8990f80cb2a26d27ca",
            "d978ad7407e447f8b31e45fa68cb35ba",
            "cecd2cc8af9a405abcc3d64289c98acb",
            "d425f4b2d044445ab2bbfd2b5f15bdcc",
            "fe443b7b5d014d1792e20917c112e08d",
            "09a0c68ef72c42aa830061982a8e188e",
            "5780088ec77344cbb8373217c5323f69"
          ]
        },
        "outputId": "5126fbdd-b72c-4833-f42f-f5697a3fb223"
      },
      "source": [
        "train_dataset = datasets.MNIST(root = '../data/MNIST', # 데이터 저장될장소 \n",
        "                               train = True, # train인지test인지 \n",
        "                               download = True,# 인터넷에서 다운로드해 이용할건지 \n",
        "                               transform = transforms.ToTensor()) #이미지를 tensor 형태로 변환\n",
        "                                                                  #0~255 를 0~1로 정규화까지 해줌\n",
        "\n",
        "test_dataset = datasets.MNIST(root = '../data/MNIST',\n",
        "                               train = False,\n",
        "                               download = True,\n",
        "                               transform = transforms.ToTensor())\n",
        "\n",
        "train_loader = torch.utils.data.DataLoader(dataset = train_dataset,\n",
        "                                          batch_size = BATCH_SIZE,\n",
        "                                          shuffle = True)\n",
        "\n",
        "# mini-batch 단위(BATCH-SIZE)로 분리해서 지정 \n",
        "test_loader = torch.utils.data.DataLoader(dataset = test_dataset,\n",
        "                                          batch_size = BATCH_SIZE,\n",
        "                                          shuffle = True)"
      ],
      "execution_count": 26,
      "outputs": [
        {
          "output_type": "stream",
          "name": "stdout",
          "text": [
            "Downloading http://yann.lecun.com/exdb/mnist/train-images-idx3-ubyte.gz\n",
            "Downloading http://yann.lecun.com/exdb/mnist/train-images-idx3-ubyte.gz to ../data/MNIST/MNIST/raw/train-images-idx3-ubyte.gz\n"
          ]
        },
        {
          "output_type": "display_data",
          "data": {
            "application/vnd.jupyter.widget-view+json": {
              "model_id": "2d918e792ac6485f9daf4266209f0d9b",
              "version_minor": 0,
              "version_major": 2
            },
            "text/plain": [
              "  0%|          | 0/9912422 [00:00<?, ?it/s]"
            ]
          },
          "metadata": {}
        },
        {
          "output_type": "stream",
          "name": "stdout",
          "text": [
            "Extracting ../data/MNIST/MNIST/raw/train-images-idx3-ubyte.gz to ../data/MNIST/MNIST/raw\n",
            "\n",
            "Downloading http://yann.lecun.com/exdb/mnist/train-labels-idx1-ubyte.gz\n",
            "Downloading http://yann.lecun.com/exdb/mnist/train-labels-idx1-ubyte.gz to ../data/MNIST/MNIST/raw/train-labels-idx1-ubyte.gz\n"
          ]
        },
        {
          "output_type": "display_data",
          "data": {
            "application/vnd.jupyter.widget-view+json": {
              "model_id": "f29e5ef0ee67477295a810cc5185ea36",
              "version_minor": 0,
              "version_major": 2
            },
            "text/plain": [
              "  0%|          | 0/28881 [00:00<?, ?it/s]"
            ]
          },
          "metadata": {}
        },
        {
          "output_type": "stream",
          "name": "stdout",
          "text": [
            "Extracting ../data/MNIST/MNIST/raw/train-labels-idx1-ubyte.gz to ../data/MNIST/MNIST/raw\n",
            "\n",
            "Downloading http://yann.lecun.com/exdb/mnist/t10k-images-idx3-ubyte.gz\n",
            "Downloading http://yann.lecun.com/exdb/mnist/t10k-images-idx3-ubyte.gz to ../data/MNIST/MNIST/raw/t10k-images-idx3-ubyte.gz\n"
          ]
        },
        {
          "output_type": "display_data",
          "data": {
            "application/vnd.jupyter.widget-view+json": {
              "model_id": "2456484786f94873855a4e23661cb52d",
              "version_minor": 0,
              "version_major": 2
            },
            "text/plain": [
              "  0%|          | 0/1648877 [00:00<?, ?it/s]"
            ]
          },
          "metadata": {}
        },
        {
          "output_type": "stream",
          "name": "stdout",
          "text": [
            "Extracting ../data/MNIST/MNIST/raw/t10k-images-idx3-ubyte.gz to ../data/MNIST/MNIST/raw\n",
            "\n",
            "Downloading http://yann.lecun.com/exdb/mnist/t10k-labels-idx1-ubyte.gz\n",
            "Downloading http://yann.lecun.com/exdb/mnist/t10k-labels-idx1-ubyte.gz to ../data/MNIST/MNIST/raw/t10k-labels-idx1-ubyte.gz\n"
          ]
        },
        {
          "output_type": "display_data",
          "data": {
            "application/vnd.jupyter.widget-view+json": {
              "model_id": "521b495712274486821a9b76db638080",
              "version_minor": 0,
              "version_major": 2
            },
            "text/plain": [
              "  0%|          | 0/4542 [00:00<?, ?it/s]"
            ]
          },
          "metadata": {}
        },
        {
          "output_type": "stream",
          "name": "stdout",
          "text": [
            "Extracting ../data/MNIST/MNIST/raw/t10k-labels-idx1-ubyte.gz to ../data/MNIST/MNIST/raw\n",
            "\n"
          ]
        },
        {
          "output_type": "stream",
          "name": "stderr",
          "text": [
            "/usr/local/lib/python3.7/dist-packages/torchvision/datasets/mnist.py:498: UserWarning: The given NumPy array is not writeable, and PyTorch does not support non-writeable tensors. This means you can write to the underlying (supposedly non-writeable) NumPy array using the tensor. You may want to copy the array to protect its data or make it writeable before converting it to a tensor. This type of warning will be suppressed for the rest of this program. (Triggered internally at  /pytorch/torch/csrc/utils/tensor_numpy.cpp:180.)\n",
            "  return torch.from_numpy(parsed.astype(m[2], copy=False)).view(*s)\n"
          ]
        }
      ]
    },
    {
      "cell_type": "markdown",
      "metadata": {
        "id": "HMuXLX2Wt3rG"
      },
      "source": [
        "**🔎 torchvision에서 활용할 수 있는 dataset은 어떤게 있나요? ([torchvision 공식문서](https://pytorch.org/vision/stable/datasets.html)를 활용하여 2개이상 적어주세요.)**  \n",
        "👉 엄청많다!! CIFAR, COCO, MNIST, Fashion-MNIST 처럼 써본 dataset도 있고 Caltech, EMNIST, SBD,, 등등 써보지 못한 dataset도 있다."
      ]
    },
    {
      "cell_type": "markdown",
      "metadata": {
        "id": "9NS79tl6ucBf"
      },
      "source": [
        "**🔎 torch.utils.data.DataLoader()에는 어떤 기능이 있나요? 알고있는 만큼 적어주세요.**   \n",
        "👉 batch size 조정, shuffle, drop last(데이터 크기랑 배치크기가 마지막에 안맞을 때 삭제 defalt : false)\n",
        "🔔 [Hint](https://pytorch.org/docs/stable/data.html?highlight=dataloader#torch.utils.data.DataLoader)"
      ]
    },
    {
      "cell_type": "code",
      "metadata": {
        "id": "5x5Gc67jZf03"
      },
      "source": [
        "class Net(nn.Module):## nn.Module 상속 \n",
        "  def __init__(self):\n",
        "    super(Net, self).__init__() ## nn.Module 의 init 상속\n",
        "    self.fc1 = nn.Linear(28 * 28, 256) # input , output \n",
        "    self.fc2 = nn.Linear(256,10)\n",
        "    # 층을 쌓고 \n",
        "  def forward(self, x): # 쌓은 층에 대해서 Forward Propagation 정의(output 까진의 계산과정 나열)\n",
        "    x = x.view(-1 , 28 * 28) # 1차원 데이터로 Flatten\n",
        "    x = self.fc1(x) # fc1에 입력 \n",
        "    x = F.sigmoid(x) # 그 아웃풋에 sigmoid 적용 \n",
        "    x = self.fc2(x) # fc2에 입력 \n",
        "    x = F.log_softmax(x, dim = 1) # 그 아웃풋에 log_softmax 적용 \n",
        "                                  # 일반 softmax보다 더 그라디언트 계산이 쉽다고 함 \n",
        "    return x"
      ],
      "execution_count": 27,
      "outputs": []
    },
    {
      "cell_type": "markdown",
      "metadata": {
        "id": "W4IJgeggjCPh"
      },
      "source": [
        "**🔎 Numpy로 구현된 분류기와 비교했을때 어떤부분이 바뀌었나요?**  \n",
        "👉 함수로 짜여있던 부분들이 nn.Module class를 상속받아서 작성되어있다."
      ]
    },
    {
      "cell_type": "code",
      "metadata": {
        "id": "zIF9nVq6Z7Nv",
        "colab": {
          "base_uri": "https://localhost:8080/"
        },
        "outputId": "bec24d07-c81b-446d-c8ef-f0e1a2e8b5ba"
      },
      "source": [
        "model = Net().to(DEVICE) # 상속했으니깐 Net()에서 to() 메서드를 쓸수있음 DEVICE로 보냄 \n",
        "optimizer = torch.optim.SGD(model.parameters(), lr = 0.01, momentum = 0.5)\n",
        "critertion = nn.CrossEntropyLoss() # Loss 기준은 CrossEntropyLoss로 \n",
        "\n",
        "print(model)"
      ],
      "execution_count": 28,
      "outputs": [
        {
          "output_type": "stream",
          "name": "stdout",
          "text": [
            "Net(\n",
            "  (fc1): Linear(in_features=784, out_features=256, bias=True)\n",
            "  (fc2): Linear(in_features=256, out_features=10, bias=True)\n",
            ")\n"
          ]
        }
      ]
    },
    {
      "cell_type": "markdown",
      "metadata": {
        "id": "yZvRH9VBl4Ei"
      },
      "source": [
        "**🔎 torch.optim에는 어떤 optimizer들을 구현할 수 있나요? ([공식 document](https://pytorch.org/docs/stable/optim.html?highlight=optim#module-torch.optim)를 참조하여 2개 이상 적어주세요.)**  \n",
        "👉 Adadelta, Adagrad, Adam,,,"
      ]
    },
    {
      "cell_type": "markdown",
      "metadata": {
        "id": "WZvateitmniB"
      },
      "source": [
        "**🔎 nn.Module에서 활용할 수 있는 Loss function에는 어떤 것들이 구현할 수 있나요? ([공식 document-Loss function](https://pytorch.org/docs/stable/nn.html?highlight=loss#loss-functions)를 참조하여 2개 이상 적어주세요.)**  \n",
        "👉 L1, MSE, CrossEntropy,,"
      ]
    },
    {
      "cell_type": "code",
      "metadata": {
        "id": "5HpgCpRkhv6A"
      },
      "source": [
        "def train(model, train_loader, optimizer, log_interval):\n",
        "  model.train() # model을 train 상태로 지정 \n",
        "  correct = 0\n",
        "  for batch_idx , (image, label ) in enumerate(train_loader): # train_loader에 mini-batch단위로 지정된 데이터를학습\n",
        "      image = image.to(DEVICE) # DEVICE에 할당\n",
        "      label = label.to(DEVICE) # DEVICE에 할당\n",
        "      optimizer.zero_grad() # 이전 이미지, 라벨 데이터로 게산된 LOSS의 그라디언트가 남아잇으니 초기화\n",
        "      output = model(image) # input 을 모델에 넣어 output 계산 \n",
        "      loss = critertion(output, label) # 계산된 output과 label의 loss를 계산함\n",
        "      prediction = output.max(1, keepdim = True)[1]\n",
        "      correct += prediction.eq(label.view_as(prediction)).sum().item()\n",
        "      loss.backward() #게산된 loss를 바탕으로 back propagation을 통해 계산된 그라디언트값을 각 파라미터에 할당 \n",
        "      optimizer.step() # 그라디언트 값을 이용하여 파라미터 값을 업데이트 \n",
        "      accuracy = 100. * correct / len(train_loader.dataset)\n",
        "\n",
        "      if batch_idx % log_interval == 0:\n",
        "        print(f'Train Epoch: {Epoch} [{batch_idx * len(image)} / {len(train_loader.dataset)}]')\n",
        "        print(f'Train Loss: {loss.item():.4f}')\n",
        "        print(f'Train Accuracy: {accuracy:.2f}')"
      ],
      "execution_count": 29,
      "outputs": []
    },
    {
      "cell_type": "code",
      "metadata": {
        "id": "g9YjLv_Wh2hK"
      },
      "source": [
        "def evaluate(model, test_loader):\n",
        "  model.eval() # 모델을 평가상태(test 상태)로 지정 \n",
        "  test_loss = 0 # test_loss 초기값 \n",
        "  correct = 0 # 올바른 class로 분류한 카운트를 세기위해 0으로 설정 \n",
        "\n",
        "  with torch.no_grad(): # 평가시에는 gradiant를 통해 패러미터 업데이트를 하지않음 \n",
        "    for image, label in test_loader: # mini_batch 단위로 꺼내기 \n",
        "      image = image.to(DEVICE) # DEVICE 할당\n",
        "      label = label.to(DEVICE) # DEVICE에 할당\n",
        "      output = model(image)    # 모델에 input을 넣어 output 계산 \n",
        "      test_loss += critertion(output, label).item() # output과 label의 loss 계산 \n",
        "      prediction = output.max(1, keepdim = True)[1] # output은 길이가 10인 벡터값 \n",
        "                                                    # 그중에서 가장 큰값인 위치의 라벨로\n",
        "                                                    # 예측햇다고 판단 \n",
        "      correct += prediction.eq(label.view_as(prediction)).sum().item() # eq() 메서드는 라벨과 예측이 같으면(equal) 1\n",
        "                                                                        # 다르면 0. 그 값들을더해서 correct에 더해주기 \n",
        "  \n",
        "  test_loss /= len(test_loader.dataset)\n",
        "  test_accuracy = 100. * correct / len(test_loader.dataset)\n",
        "  return test_loss, test_accuracy"
      ],
      "execution_count": 30,
      "outputs": []
    },
    {
      "cell_type": "markdown",
      "metadata": {
        "id": "5Mx9r5HQvVSG"
      },
      "source": [
        "**🔎 Autograd 패키지는 어떤 기능을 하나요? 아는만큼 적어주세요.**  \n",
        "👉 연산그래프를 생성해서 연전파 단계에 연산을 자동화한다.\n",
        "🔔 [Hint](http://taewan.kim/trans/pytorch/tutorial/blits/02_autograd/)"
      ]
    },
    {
      "cell_type": "code",
      "metadata": {
        "id": "McdFeMejh4BH",
        "colab": {
          "base_uri": "https://localhost:8080/"
        },
        "outputId": "9bfd0760-5a54-40e1-ab7a-ec75a398fd15"
      },
      "source": [
        "for Epoch in range(1, EPOCHS + 1):\n",
        "  train(model, train_loader, optimizer, log_interval= 200) # 아까 정의한 train 함수 실행, log_interval로 log가 뜨는 간격 설정 \n",
        "  test_loss, test_accuracy = evaluate(model, test_loader) # 학습한 모델 test\n",
        "  print(f'\\n EPOCH: {Epoch}, \\t Test Loss: {test_loss:.4f}, \\t Test Accuracy: {test_accuracy:.2f} \\n')"
      ],
      "execution_count": 31,
      "outputs": [
        {
          "output_type": "stream",
          "name": "stderr",
          "text": [
            "/usr/local/lib/python3.7/dist-packages/torch/nn/functional.py:1805: UserWarning: nn.functional.sigmoid is deprecated. Use torch.sigmoid instead.\n",
            "  warnings.warn(\"nn.functional.sigmoid is deprecated. Use torch.sigmoid instead.\")\n"
          ]
        },
        {
          "output_type": "stream",
          "name": "stdout",
          "text": [
            "Train Epoch: 1 [0 / 60000]\n",
            "Train Loss: 2.3146\n",
            "Train Accuracy: 0.01\n",
            "Train Epoch: 1 [6400 / 60000]\n",
            "Train Loss: 2.1484\n",
            "Train Accuracy: 2.18\n",
            "Train Epoch: 1 [12800 / 60000]\n",
            "Train Loss: 1.9399\n",
            "Train Accuracy: 7.08\n",
            "Train Epoch: 1 [19200 / 60000]\n",
            "Train Loss: 1.7777\n",
            "Train Accuracy: 13.33\n",
            "Train Epoch: 1 [25600 / 60000]\n",
            "Train Loss: 1.2576\n",
            "Train Accuracy: 20.47\n",
            "Train Epoch: 1 [32000 / 60000]\n",
            "Train Loss: 1.1810\n",
            "Train Accuracy: 28.20\n",
            "Train Epoch: 1 [38400 / 60000]\n",
            "Train Loss: 1.0309\n",
            "Train Accuracy: 36.51\n",
            "Train Epoch: 1 [44800 / 60000]\n",
            "Train Loss: 0.7165\n",
            "Train Accuracy: 45.04\n",
            "Train Epoch: 1 [51200 / 60000]\n",
            "Train Loss: 0.6055\n",
            "Train Accuracy: 53.75\n",
            "Train Epoch: 1 [57600 / 60000]\n",
            "Train Loss: 0.7512\n",
            "Train Accuracy: 62.66\n",
            "\n",
            " EPOCH: 1, \t Test Loss: 0.0212, \t Test Accuracy: 85.32 \n",
            "\n",
            "Train Epoch: 2 [0 / 60000]\n",
            "Train Loss: 0.8695\n",
            "Train Accuracy: 0.04\n",
            "Train Epoch: 2 [6400 / 60000]\n",
            "Train Loss: 0.5977\n",
            "Train Accuracy: 9.12\n",
            "Train Epoch: 2 [12800 / 60000]\n",
            "Train Loss: 0.5274\n",
            "Train Accuracy: 18.23\n",
            "Train Epoch: 2 [19200 / 60000]\n",
            "Train Loss: 0.6197\n",
            "Train Accuracy: 27.35\n",
            "Train Epoch: 2 [25600 / 60000]\n",
            "Train Loss: 0.6456\n",
            "Train Accuracy: 36.50\n",
            "Train Epoch: 2 [32000 / 60000]\n",
            "Train Loss: 0.6314\n",
            "Train Accuracy: 45.74\n",
            "Train Epoch: 2 [38400 / 60000]\n",
            "Train Loss: 0.7942\n",
            "Train Accuracy: 55.06\n",
            "Train Epoch: 2 [44800 / 60000]\n",
            "Train Loss: 0.5065\n",
            "Train Accuracy: 64.36\n",
            "Train Epoch: 2 [51200 / 60000]\n",
            "Train Loss: 0.4988\n",
            "Train Accuracy: 73.65\n",
            "Train Epoch: 2 [57600 / 60000]\n",
            "Train Loss: 0.2892\n",
            "Train Accuracy: 83.03\n",
            "\n",
            " EPOCH: 2, \t Test Loss: 0.0138, \t Test Accuracy: 88.62 \n",
            "\n",
            "Train Epoch: 3 [0 / 60000]\n",
            "Train Loss: 0.2982\n",
            "Train Accuracy: 0.05\n",
            "Train Epoch: 3 [6400 / 60000]\n",
            "Train Loss: 0.5297\n",
            "Train Accuracy: 9.48\n",
            "Train Epoch: 3 [12800 / 60000]\n",
            "Train Loss: 0.4234\n",
            "Train Accuracy: 18.96\n",
            "Train Epoch: 3 [19200 / 60000]\n",
            "Train Loss: 0.5114\n",
            "Train Accuracy: 28.36\n",
            "Train Epoch: 3 [25600 / 60000]\n",
            "Train Loss: 0.3407\n",
            "Train Accuracy: 37.80\n",
            "Train Epoch: 3 [32000 / 60000]\n",
            "Train Loss: 0.4086\n",
            "Train Accuracy: 47.27\n",
            "Train Epoch: 3 [38400 / 60000]\n",
            "Train Loss: 0.2398\n",
            "Train Accuracy: 56.71\n",
            "Train Epoch: 3 [44800 / 60000]\n",
            "Train Loss: 0.6746\n",
            "Train Accuracy: 66.17\n",
            "Train Epoch: 3 [51200 / 60000]\n",
            "Train Loss: 0.5952\n",
            "Train Accuracy: 75.69\n",
            "Train Epoch: 3 [57600 / 60000]\n",
            "Train Loss: 0.2966\n",
            "Train Accuracy: 85.22\n",
            "\n",
            " EPOCH: 3, \t Test Loss: 0.0115, \t Test Accuracy: 89.88 \n",
            "\n",
            "Train Epoch: 4 [0 / 60000]\n",
            "Train Loss: 0.1970\n",
            "Train Accuracy: 0.05\n",
            "Train Epoch: 4 [6400 / 60000]\n",
            "Train Loss: 0.3066\n",
            "Train Accuracy: 9.60\n",
            "Train Epoch: 4 [12800 / 60000]\n",
            "Train Loss: 0.5180\n",
            "Train Accuracy: 19.17\n",
            "Train Epoch: 4 [19200 / 60000]\n",
            "Train Loss: 0.6268\n",
            "Train Accuracy: 28.66\n",
            "Train Epoch: 4 [25600 / 60000]\n",
            "Train Loss: 0.2594\n",
            "Train Accuracy: 38.15\n",
            "Train Epoch: 4 [32000 / 60000]\n",
            "Train Loss: 0.2177\n",
            "Train Accuracy: 47.79\n",
            "Train Epoch: 4 [38400 / 60000]\n",
            "Train Loss: 0.5587\n",
            "Train Accuracy: 57.39\n",
            "Train Epoch: 4 [44800 / 60000]\n",
            "Train Loss: 0.2572\n",
            "Train Accuracy: 66.97\n",
            "Train Epoch: 4 [51200 / 60000]\n",
            "Train Loss: 0.7601\n",
            "Train Accuracy: 76.56\n",
            "Train Epoch: 4 [57600 / 60000]\n",
            "Train Loss: 0.4499\n",
            "Train Accuracy: 86.14\n",
            "\n",
            " EPOCH: 4, \t Test Loss: 0.0106, \t Test Accuracy: 90.45 \n",
            "\n",
            "Train Epoch: 5 [0 / 60000]\n",
            "Train Loss: 0.3796\n",
            "Train Accuracy: 0.05\n",
            "Train Epoch: 5 [6400 / 60000]\n",
            "Train Loss: 0.4263\n",
            "Train Accuracy: 9.68\n",
            "Train Epoch: 5 [12800 / 60000]\n",
            "Train Loss: 0.1812\n",
            "Train Accuracy: 19.22\n",
            "Train Epoch: 5 [19200 / 60000]\n",
            "Train Loss: 0.2143\n",
            "Train Accuracy: 28.79\n",
            "Train Epoch: 5 [25600 / 60000]\n",
            "Train Loss: 0.1747\n",
            "Train Accuracy: 38.45\n",
            "Train Epoch: 5 [32000 / 60000]\n",
            "Train Loss: 0.4408\n",
            "Train Accuracy: 48.06\n",
            "Train Epoch: 5 [38400 / 60000]\n",
            "Train Loss: 0.2389\n",
            "Train Accuracy: 57.69\n",
            "Train Epoch: 5 [44800 / 60000]\n",
            "Train Loss: 0.5317\n",
            "Train Accuracy: 67.38\n",
            "Train Epoch: 5 [51200 / 60000]\n",
            "Train Loss: 0.3193\n",
            "Train Accuracy: 77.02\n",
            "Train Epoch: 5 [57600 / 60000]\n",
            "Train Loss: 0.2724\n",
            "Train Accuracy: 86.67\n",
            "\n",
            " EPOCH: 5, \t Test Loss: 0.0100, \t Test Accuracy: 91.03 \n",
            "\n",
            "Train Epoch: 6 [0 / 60000]\n",
            "Train Loss: 0.5052\n",
            "Train Accuracy: 0.05\n",
            "Train Epoch: 6 [6400 / 60000]\n",
            "Train Loss: 0.3135\n",
            "Train Accuracy: 9.76\n",
            "Train Epoch: 6 [12800 / 60000]\n",
            "Train Loss: 0.1683\n",
            "Train Accuracy: 19.46\n",
            "Train Epoch: 6 [19200 / 60000]\n",
            "Train Loss: 0.4944\n",
            "Train Accuracy: 29.11\n",
            "Train Epoch: 6 [25600 / 60000]\n",
            "Train Loss: 0.2993\n",
            "Train Accuracy: 38.79\n",
            "Train Epoch: 6 [32000 / 60000]\n",
            "Train Loss: 0.3062\n",
            "Train Accuracy: 48.40\n",
            "Train Epoch: 6 [38400 / 60000]\n",
            "Train Loss: 0.5610\n",
            "Train Accuracy: 58.04\n",
            "Train Epoch: 6 [44800 / 60000]\n",
            "Train Loss: 0.5585\n",
            "Train Accuracy: 67.72\n",
            "Train Epoch: 6 [51200 / 60000]\n",
            "Train Loss: 0.3206\n",
            "Train Accuracy: 77.45\n",
            "Train Epoch: 6 [57600 / 60000]\n",
            "Train Loss: 0.2184\n",
            "Train Accuracy: 87.09\n",
            "\n",
            " EPOCH: 6, \t Test Loss: 0.0097, \t Test Accuracy: 91.24 \n",
            "\n",
            "Train Epoch: 7 [0 / 60000]\n",
            "Train Loss: 0.6741\n",
            "Train Accuracy: 0.04\n",
            "Train Epoch: 7 [6400 / 60000]\n",
            "Train Loss: 0.1592\n",
            "Train Accuracy: 9.76\n",
            "Train Epoch: 7 [12800 / 60000]\n",
            "Train Loss: 0.4171\n",
            "Train Accuracy: 19.47\n",
            "Train Epoch: 7 [19200 / 60000]\n",
            "Train Loss: 0.1193\n",
            "Train Accuracy: 29.18\n",
            "Train Epoch: 7 [25600 / 60000]\n",
            "Train Loss: 0.2563\n",
            "Train Accuracy: 38.84\n",
            "Train Epoch: 7 [32000 / 60000]\n",
            "Train Loss: 0.3028\n",
            "Train Accuracy: 48.53\n",
            "Train Epoch: 7 [38400 / 60000]\n",
            "Train Loss: 0.7433\n",
            "Train Accuracy: 58.23\n",
            "Train Epoch: 7 [44800 / 60000]\n",
            "Train Loss: 0.1518\n",
            "Train Accuracy: 67.93\n",
            "Train Epoch: 7 [51200 / 60000]\n",
            "Train Loss: 0.2790\n",
            "Train Accuracy: 77.60\n",
            "Train Epoch: 7 [57600 / 60000]\n",
            "Train Loss: 0.2367\n",
            "Train Accuracy: 87.34\n",
            "\n",
            " EPOCH: 7, \t Test Loss: 0.0093, \t Test Accuracy: 91.61 \n",
            "\n",
            "Train Epoch: 8 [0 / 60000]\n",
            "Train Loss: 0.3002\n",
            "Train Accuracy: 0.05\n",
            "Train Epoch: 8 [6400 / 60000]\n",
            "Train Loss: 0.4226\n",
            "Train Accuracy: 9.73\n",
            "Train Epoch: 8 [12800 / 60000]\n",
            "Train Loss: 0.4688\n",
            "Train Accuracy: 19.44\n",
            "Train Epoch: 8 [19200 / 60000]\n",
            "Train Loss: 0.3272\n",
            "Train Accuracy: 29.14\n",
            "Train Epoch: 8 [25600 / 60000]\n",
            "Train Loss: 0.2915\n",
            "Train Accuracy: 38.89\n",
            "Train Epoch: 8 [32000 / 60000]\n",
            "Train Loss: 0.0637\n",
            "Train Accuracy: 48.58\n",
            "Train Epoch: 8 [38400 / 60000]\n",
            "Train Loss: 0.3694\n",
            "Train Accuracy: 58.35\n",
            "Train Epoch: 8 [44800 / 60000]\n",
            "Train Loss: 0.4575\n",
            "Train Accuracy: 68.06\n",
            "Train Epoch: 8 [51200 / 60000]\n",
            "Train Loss: 0.3343\n",
            "Train Accuracy: 77.88\n",
            "Train Epoch: 8 [57600 / 60000]\n",
            "Train Loss: 0.1731\n",
            "Train Accuracy: 87.68\n",
            "\n",
            " EPOCH: 8, \t Test Loss: 0.0091, \t Test Accuracy: 91.84 \n",
            "\n",
            "Train Epoch: 9 [0 / 60000]\n",
            "Train Loss: 0.4039\n",
            "Train Accuracy: 0.05\n",
            "Train Epoch: 9 [6400 / 60000]\n",
            "Train Loss: 0.2404\n",
            "Train Accuracy: 9.77\n",
            "Train Epoch: 9 [12800 / 60000]\n",
            "Train Loss: 0.4988\n",
            "Train Accuracy: 19.48\n",
            "Train Epoch: 9 [19200 / 60000]\n",
            "Train Loss: 0.4004\n",
            "Train Accuracy: 29.23\n",
            "Train Epoch: 9 [25600 / 60000]\n",
            "Train Loss: 0.3243\n",
            "Train Accuracy: 39.02\n",
            "Train Epoch: 9 [32000 / 60000]\n",
            "Train Loss: 0.2406\n",
            "Train Accuracy: 48.77\n",
            "Train Epoch: 9 [38400 / 60000]\n",
            "Train Loss: 0.2288\n",
            "Train Accuracy: 58.53\n",
            "Train Epoch: 9 [44800 / 60000]\n",
            "Train Loss: 0.0920\n",
            "Train Accuracy: 68.33\n",
            "Train Epoch: 9 [51200 / 60000]\n",
            "Train Loss: 0.2795\n",
            "Train Accuracy: 78.04\n",
            "Train Epoch: 9 [57600 / 60000]\n",
            "Train Loss: 0.2609\n",
            "Train Accuracy: 87.87\n",
            "\n",
            " EPOCH: 9, \t Test Loss: 0.0088, \t Test Accuracy: 91.87 \n",
            "\n",
            "Train Epoch: 10 [0 / 60000]\n",
            "Train Loss: 0.6812\n",
            "Train Accuracy: 0.04\n",
            "Train Epoch: 10 [6400 / 60000]\n",
            "Train Loss: 0.2724\n",
            "Train Accuracy: 9.85\n",
            "Train Epoch: 10 [12800 / 60000]\n",
            "Train Loss: 0.3086\n",
            "Train Accuracy: 19.65\n",
            "Train Epoch: 10 [19200 / 60000]\n",
            "Train Loss: 0.1124\n",
            "Train Accuracy: 29.45\n",
            "Train Epoch: 10 [25600 / 60000]\n",
            "Train Loss: 0.2958\n",
            "Train Accuracy: 39.25\n",
            "Train Epoch: 10 [32000 / 60000]\n",
            "Train Loss: 0.4008\n",
            "Train Accuracy: 49.04\n",
            "Train Epoch: 10 [38400 / 60000]\n",
            "Train Loss: 0.2091\n",
            "Train Accuracy: 58.72\n",
            "Train Epoch: 10 [44800 / 60000]\n",
            "Train Loss: 0.1335\n",
            "Train Accuracy: 68.49\n",
            "Train Epoch: 10 [51200 / 60000]\n",
            "Train Loss: 0.4350\n",
            "Train Accuracy: 78.26\n",
            "Train Epoch: 10 [57600 / 60000]\n",
            "Train Loss: 0.2609\n",
            "Train Accuracy: 88.05\n",
            "\n",
            " EPOCH: 10, \t Test Loss: 0.0086, \t Test Accuracy: 92.09 \n",
            "\n"
          ]
        }
      ]
    },
    {
      "cell_type": "markdown",
      "metadata": {
        "id": "JI3XgROLwtQ9"
      },
      "source": [
        "단 10 Epoch만에 Test Accuracy 91.96%를 달성했습니다!  \n",
        "**Numpy로 구현된 모델의 결과와 Pytorch로 구현된 결과가 상이한 이유는 뭘까요?**  \n",
        "주말동안 고민해보시고 다음주 월요일 풀잎시간에 얘기해보면 좋을 것 같습니다."
      ]
    },
    {
      "cell_type": "code",
      "metadata": {
        "id": "jGxyrpyGDkPI"
      },
      "source": [
        ""
      ],
      "execution_count": null,
      "outputs": []
    }
  ]
}